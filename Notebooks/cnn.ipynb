{
 "cells": [
  {
   "cell_type": "code",
   "execution_count": 1,
   "id": "8ebfe46d-41ed-4148-91f6-db7c19d78f1b",
   "metadata": {
    "tags": []
   },
   "outputs": [],
   "source": [
    "import sys\n",
    "sys.path.append('../')\n",
    "from tqdm import tqdm\n",
    "from sklearn.model_selection import train_test_split\n",
    "import matplotlib.pyplot as plt"
   ]
  },
  {
   "cell_type": "code",
   "execution_count": 2,
   "id": "26ee053b-8887-433e-9eb0-7d786614484a",
   "metadata": {
    "tags": []
   },
   "outputs": [
    {
     "name": "stdout",
     "output_type": "stream",
     "text": [
      "TauNet: Running on perlmutter\n"
     ]
    }
   ],
   "source": [
    "%load_ext autoreload\n",
    "%autoreload 2\n",
    "from taunet.simulation import * \n",
    "from taunet.cnn import TauNet"
   ]
  },
  {
   "cell_type": "code",
   "execution_count": 3,
   "id": "c3e1c9cf-63ac-459b-9a0b-a36211c69ab9",
   "metadata": {
    "tags": []
   },
   "outputs": [],
   "source": [
    "taus = np.round(np.arange(0.01,0.13,5e-4),4)\n",
    "cmb = CMBmap(taus,nsim=240000,verbose=False)"
   ]
  },
  {
   "cell_type": "code",
   "execution_count": 4,
   "id": "380b6dc6-1a40-4468-b707-5558bd0bcdae",
   "metadata": {
    "tags": []
   },
   "outputs": [],
   "source": [
    "taus = cmb.tau_dis"
   ]
  },
  {
   "cell_type": "code",
   "execution_count": 5,
   "id": "86d5db5a-d5d3-4a68-9bbb-34ef59ce0a60",
   "metadata": {
    "tags": []
   },
   "outputs": [
    {
     "data": {
      "image/png": "[encoded data removed]",
      "text/plain": [
       "<Figure size 640x480 with 1 Axes>"
      ]
     },
     "metadata": {},
     "output_type": "display_data"
    }
   ],
   "source": [
    "TAU = taus[:10000]\n",
    "null = plt.hist(TAU, bins=500)"
   ]
  },
  {
   "cell_type": "code",
   "execution_count": 6,
   "id": "f97b801a-f473-4de9-9ef6-f97469782dc2",
   "metadata": {
    "tags": []
   },
   "outputs": [
    {
     "name": "stderr",
     "output_type": "stream",
     "text": [
      "100%|██████████| 10000/10000 [00:33<00:00, 300.26it/s]\n"
     ]
    }
   ],
   "source": [
    "QU_S = []\n",
    "for i in tqdm(range(10000)):\n",
    "    QU_S.append(cmb.QU(i).T)         "
   ]
  },
  {
   "cell_type": "code",
   "execution_count": 7,
   "id": "cd863b49-d129-4359-9b26-92b8150cb252",
   "metadata": {
    "tags": []
   },
   "outputs": [],
   "source": [
    "QU_S = np.array(QU_S)"
   ]
  },
  {
   "cell_type": "code",
   "execution_count": 8,
   "id": "aa3b3460-21d4-480b-842c-1841e03b4071",
   "metadata": {
    "tags": []
   },
   "outputs": [
    {
     "name": "stdout",
     "output_type": "stream",
     "text": [
      "10000 10000\n"
     ]
    }
   ],
   "source": [
    "print(len(TAU),len(QU_S))"
   ]
  },
  {
   "cell_type": "code",
   "execution_count": 9,
   "id": "5bc49769-f781-40bd-8aa7-45d673e39f62",
   "metadata": {
    "tags": []
   },
   "outputs": [],
   "source": [
    "Xs_train, Xs_test, ys_train, ys_test = train_test_split(QU_S, TAU, test_size=0.1, random_state=42)"
   ]
  },
  {
   "cell_type": "code",
   "execution_count": 10,
   "id": "fdbda9c6-ccfd-46de-8e2a-cc4458fdf201",
   "metadata": {
    "tags": []
   },
   "outputs": [
    {
     "name": "stderr",
     "output_type": "stream",
     "text": [
      "2024-04-07 12:50:55.732969: I tensorflow/core/platform/cpu_feature_guard.cc:193] This TensorFlow binary is optimized with oneAPI Deep Neural Network Library (oneDNN) to use the following CPU instructions in performance-critical operations:  AVX2 FMA\n",
      "To enable them in other operations, rebuild TensorFlow with the appropriate compiler flags.\n",
      "2024-04-07 12:50:56.809007: I tensorflow/core/common_runtime/gpu/gpu_device.cc:1532] Created device /job:localhost/replica:0/task:0/device:GPU:0 with 38218 MB memory:  -> device: 0, name: NVIDIA A100-SXM4-40GB, pci bus id: 0000:41:00.0, compute capability: 8.0\n"
     ]
    }
   ],
   "source": [
    "models = TauNet(nmaps=2)"
   ]
  },
  {
   "cell_type": "code",
   "execution_count": 11,
   "id": "545d565f-37d5-4df6-b973-ccef58a913b6",
   "metadata": {
    "tags": []
   },
   "outputs": [
    {
     "name": "stdout",
     "output_type": "stream",
     "text": [
      "Epoch 1/45\n"
     ]
    },
    {
     "name": "stderr",
     "output_type": "stream",
     "text": [
      "2024-04-07 12:51:08.440885: I tensorflow/stream_executor/cuda/cuda_dnn.cc:384] Loaded cuDNN version 8302\n",
      "2024-04-07 12:51:10.271933: I tensorflow/stream_executor/cuda/cuda_blas.cc:1786] TensorFloat-32 will be used for the matrix multiplication. This will only be logged once.\n"
     ]
    },
    {
     "name": "stdout",
     "output_type": "stream",
     "text": [
      "282/282 [==============================] - 9s 5ms/step - loss: 0.0048 - mean_squared_error: 0.0038 - val_loss: 0.0075 - val_mean_squared_error: 0.0034 - lr: 0.0010\n",
      "Epoch 2/45\n",
      "282/282 [==============================] - 1s 4ms/step - loss: 0.0025 - mean_squared_error: 0.0033 - val_loss: 0.0014 - val_mean_squared_error: 0.0036 - lr: 0.0010\n",
      "Epoch 3/45\n",
      "282/282 [==============================] - 1s 4ms/step - loss: 0.0015 - mean_squared_error: 0.0032 - val_loss: 0.0037 - val_mean_squared_error: 0.0034 - lr: 0.0010\n",
      "Epoch 4/45\n",
      "282/282 [==============================] - 1s 4ms/step - loss: 0.0012 - mean_squared_error: 0.0032 - val_loss: 0.0014 - val_mean_squared_error: 0.0035 - lr: 0.0010\n",
      "Epoch 5/45\n",
      "282/282 [==============================] - 1s 4ms/step - loss: 0.0011 - mean_squared_error: 0.0032 - val_loss: 7.7785e-04 - val_mean_squared_error: 0.0034 - lr: 0.0010\n",
      "Epoch 6/45\n",
      "282/282 [==============================] - 1s 4ms/step - loss: 0.0011 - mean_squared_error: 0.0032 - val_loss: 0.0017 - val_mean_squared_error: 0.0035 - lr: 0.0010\n",
      "Epoch 7/45\n",
      "282/282 [==============================] - 1s 4ms/step - loss: 8.9124e-04 - mean_squared_error: 0.0032 - val_loss: 9.0118e-04 - val_mean_squared_error: 0.0033 - lr: 0.0010\n",
      "Epoch 8/45\n",
      "282/282 [==============================] - 1s 4ms/step - loss: 7.8209e-04 - mean_squared_error: 0.0032 - val_loss: 6.3576e-04 - val_mean_squared_error: 0.0034 - lr: 0.0010\n",
      "Epoch 9/45\n",
      "282/282 [==============================] - 1s 4ms/step - loss: 8.8270e-04 - mean_squared_error: 0.0032 - val_loss: 6.2100e-04 - val_mean_squared_error: 0.0034 - lr: 0.0010\n",
      "Epoch 10/45\n",
      "282/282 [==============================] - 1s 4ms/step - loss: 7.3661e-04 - mean_squared_error: 0.0032 - val_loss: 8.2078e-04 - val_mean_squared_error: 0.0034 - lr: 0.0010\n",
      "Epoch 11/45\n",
      "282/282 [==============================] - 1s 4ms/step - loss: 7.7158e-04 - mean_squared_error: 0.0032 - val_loss: 6.4755e-04 - val_mean_squared_error: 0.0034 - lr: 0.0010\n",
      "Epoch 12/45\n",
      "282/282 [==============================] - 1s 4ms/step - loss: 6.5113e-04 - mean_squared_error: 0.0032 - val_loss: 5.0423e-04 - val_mean_squared_error: 0.0033 - lr: 0.0010\n",
      "Epoch 13/45\n",
      "282/282 [==============================] - 1s 4ms/step - loss: 6.3221e-04 - mean_squared_error: 0.0032 - val_loss: 5.3610e-04 - val_mean_squared_error: 0.0033 - lr: 0.0010\n",
      "Epoch 14/45\n",
      "282/282 [==============================] - 1s 4ms/step - loss: 5.9434e-04 - mean_squared_error: 0.0031 - val_loss: 4.9044e-04 - val_mean_squared_error: 0.0033 - lr: 0.0010\n",
      "Epoch 15/45\n",
      "282/282 [==============================] - 1s 4ms/step - loss: 6.1529e-04 - mean_squared_error: 0.0031 - val_loss: 7.4561e-04 - val_mean_squared_error: 0.0033 - lr: 0.0010\n",
      "Epoch 16/45\n",
      "282/282 [==============================] - 1s 4ms/step - loss: 6.4098e-04 - mean_squared_error: 0.0031 - val_loss: 6.7562e-04 - val_mean_squared_error: 0.0033 - lr: 0.0010\n",
      "Epoch 17/45\n",
      "282/282 [==============================] - 1s 4ms/step - loss: 6.6671e-04 - mean_squared_error: 0.0031 - val_loss: 6.3611e-04 - val_mean_squared_error: 0.0033 - lr: 0.0010\n",
      "Epoch 18/45\n",
      "282/282 [==============================] - 1s 4ms/step - loss: 4.6605e-04 - mean_squared_error: 0.0031 - val_loss: 5.5377e-04 - val_mean_squared_error: 0.0033 - lr: 1.0000e-04\n",
      "Epoch 19/45\n",
      "282/282 [==============================] - 1s 4ms/step - loss: 4.3834e-04 - mean_squared_error: 0.0031 - val_loss: 4.5161e-04 - val_mean_squared_error: 0.0033 - lr: 1.0000e-04\n",
      "Epoch 20/45\n",
      "282/282 [==============================] - 1s 4ms/step - loss: 4.3653e-04 - mean_squared_error: 0.0031 - val_loss: 4.2535e-04 - val_mean_squared_error: 0.0033 - lr: 1.0000e-04\n",
      "Epoch 21/45\n",
      "282/282 [==============================] - 1s 4ms/step - loss: 4.3982e-04 - mean_squared_error: 0.0031 - val_loss: 4.2222e-04 - val_mean_squared_error: 0.0033 - lr: 1.0000e-04\n",
      "Epoch 22/45\n",
      "282/282 [==============================] - 1s 4ms/step - loss: 4.3267e-04 - mean_squared_error: 0.0031 - val_loss: 4.2718e-04 - val_mean_squared_error: 0.0033 - lr: 1.0000e-04\n",
      "Epoch 23/45\n",
      "282/282 [==============================] - 1s 4ms/step - loss: 4.1205e-04 - mean_squared_error: 0.0031 - val_loss: 4.2957e-04 - val_mean_squared_error: 0.0033 - lr: 1.0000e-05\n",
      "Epoch 24/45\n",
      "282/282 [==============================] - 1s 4ms/step - loss: 3.9728e-04 - mean_squared_error: 0.0031 - val_loss: 4.1886e-04 - val_mean_squared_error: 0.0033 - lr: 1.0000e-05\n",
      "Epoch 25/45\n",
      "282/282 [==============================] - 1s 4ms/step - loss: 4.0734e-04 - mean_squared_error: 0.0031 - val_loss: 4.2705e-04 - val_mean_squared_error: 0.0033 - lr: 1.0000e-05\n",
      "Epoch 26/45\n",
      "282/282 [==============================] - 1s 4ms/step - loss: 4.0839e-04 - mean_squared_error: 0.0031 - val_loss: 4.1753e-04 - val_mean_squared_error: 0.0033 - lr: 1.0000e-05\n",
      "Epoch 27/45\n",
      "282/282 [==============================] - 1s 4ms/step - loss: 3.9820e-04 - mean_squared_error: 0.0031 - val_loss: 4.2060e-04 - val_mean_squared_error: 0.0033 - lr: 1.0000e-05\n",
      "Epoch 28/45\n",
      "282/282 [==============================] - 1s 4ms/step - loss: 3.9667e-04 - mean_squared_error: 0.0031 - val_loss: 4.2336e-04 - val_mean_squared_error: 0.0033 - lr: 1.0000e-06\n",
      "Epoch 29/45\n",
      "282/282 [==============================] - 1s 4ms/step - loss: 4.0716e-04 - mean_squared_error: 0.0031 - val_loss: 4.2082e-04 - val_mean_squared_error: 0.0033 - lr: 1.0000e-06\n",
      "Epoch 30/45\n",
      "282/282 [==============================] - 1s 4ms/step - loss: 4.0125e-04 - mean_squared_error: 0.0031 - val_loss: 4.2239e-04 - val_mean_squared_error: 0.0033 - lr: 1.0000e-06\n",
      "Epoch 31/45\n",
      "282/282 [==============================] - 1s 4ms/step - loss: 4.0804e-04 - mean_squared_error: 0.0031 - val_loss: 4.1898e-04 - val_mean_squared_error: 0.0033 - lr: 1.0000e-06\n",
      "Epoch 32/45\n",
      "282/282 [==============================] - 1s 4ms/step - loss: 3.9878e-04 - mean_squared_error: 0.0031 - val_loss: 4.2351e-04 - val_mean_squared_error: 0.0033 - lr: 1.0000e-06\n",
      "Epoch 33/45\n",
      "282/282 [==============================] - 1s 4ms/step - loss: 3.9942e-04 - mean_squared_error: 0.0031 - val_loss: 4.2198e-04 - val_mean_squared_error: 0.0033 - lr: 1.0000e-07\n",
      "Epoch 34/45\n",
      "282/282 [==============================] - 1s 4ms/step - loss: 4.0021e-04 - mean_squared_error: 0.0031 - val_loss: 4.2099e-04 - val_mean_squared_error: 0.0033 - lr: 1.0000e-07\n",
      "Epoch 35/45\n",
      "282/282 [==============================] - 1s 4ms/step - loss: 3.9856e-04 - mean_squared_error: 0.0031 - val_loss: 4.1963e-04 - val_mean_squared_error: 0.0033 - lr: 1.0000e-07\n",
      "Epoch 36/45\n",
      "282/282 [==============================] - 1s 4ms/step - loss: 4.0795e-04 - mean_squared_error: 0.0031 - val_loss: 4.2035e-04 - val_mean_squared_error: 0.0033 - lr: 1.0000e-07\n",
      "Epoch 37/45\n",
      "282/282 [==============================] - 1s 4ms/step - loss: 3.9958e-04 - mean_squared_error: 0.0031 - val_loss: 4.2088e-04 - val_mean_squared_error: 0.0033 - lr: 1.0000e-07\n",
      "Epoch 38/45\n",
      "282/282 [==============================] - 1s 4ms/step - loss: 4.0313e-04 - mean_squared_error: 0.0031 - val_loss: 4.2075e-04 - val_mean_squared_error: 0.0033 - lr: 1.0000e-08\n",
      "Epoch 39/45\n",
      "282/282 [==============================] - 1s 4ms/step - loss: 4.0172e-04 - mean_squared_error: 0.0031 - val_loss: 4.2076e-04 - val_mean_squared_error: 0.0033 - lr: 1.0000e-08\n",
      "Epoch 40/45\n",
      "282/282 [==============================] - 1s 4ms/step - loss: 3.9866e-04 - mean_squared_error: 0.0031 - val_loss: 4.2070e-04 - val_mean_squared_error: 0.0033 - lr: 1.0000e-08\n",
      "Epoch 41/45\n",
      "282/282 [==============================] - 1s 4ms/step - loss: 4.0053e-04 - mean_squared_error: 0.0031 - val_loss: 4.2071e-04 - val_mean_squared_error: 0.0033 - lr: 1.0000e-08\n",
      "Epoch 42/45\n",
      "282/282 [==============================] - 1s 4ms/step - loss: 4.0295e-04 - mean_squared_error: 0.0031 - val_loss: 4.2069e-04 - val_mean_squared_error: 0.0033 - lr: 1.0000e-08\n",
      "Epoch 43/45\n",
      "282/282 [==============================] - 1s 4ms/step - loss: 4.0677e-04 - mean_squared_error: 0.0031 - val_loss: 4.2069e-04 - val_mean_squared_error: 0.0033 - lr: 1.0000e-09\n",
      "Epoch 44/45\n",
      "282/282 [==============================] - 1s 4ms/step - loss: 3.9775e-04 - mean_squared_error: 0.0031 - val_loss: 4.2070e-04 - val_mean_squared_error: 0.0033 - lr: 1.0000e-09\n",
      "Epoch 45/45\n",
      "282/282 [==============================] - 1s 4ms/step - loss: 3.9893e-04 - mean_squared_error: 0.0031 - val_loss: 4.2070e-04 - val_mean_squared_error: 0.0033 - lr: 1.0000e-09\n"
     ]
    }
   ],
   "source": [
    "hists = models.compile_and_fit(Xs_train,ys_train,Xs_test,ys_test)"
   ]
  },
  {
   "cell_type": "code",
   "execution_count": 12,
   "id": "bf6bb1d8-ea9e-41a8-b660-dff2a2c8bb95",
   "metadata": {
    "tags": []
   },
   "outputs": [
    {
     "name": "stdout",
     "output_type": "stream",
     "text": [
      "32/32 [==============================] - 0s 1ms/step\n"
     ]
    }
   ],
   "source": [
    "predicts = models.predict(Xs_test)"
   ]
  },
  {
   "cell_type": "code",
   "execution_count": 13,
   "id": "9db00548-3acc-444a-b8a3-a8bc89cb7f70",
   "metadata": {
    "tags": []
   },
   "outputs": [],
   "source": [
    "diffs = predicts[:,0] - ys_test.flatten()\n",
    "stds = np.std(diffs)"
   ]
  },
  {
   "cell_type": "code",
   "execution_count": 14,
   "id": "f3219d03-9bc3-4233-98b1-0bf1fa08e101",
   "metadata": {
    "tags": []
   },
   "outputs": [
    {
     "data": {
      "text/plain": [
       "<matplotlib.legend.Legend at 0x14e9c8019bb0>"
      ]
     },
     "execution_count": 14,
     "metadata": {},
     "output_type": "execute_result"
    },
    {
     "data": {
      "image/png": "[encoded data removed]",
      "text/plain": [
       "<Figure size 640x480 with 1 Axes>"
      ]
     },
     "metadata": {},
     "output_type": "display_data"
    }
   ],
   "source": [
    "plt.hist(predicts[:,0] - ys_test.flatten(),bins=20)\n",
    "plt.xlabel('$\\\\tau_{predict} - \\\\tau_{true}$',fontsize=15)\n",
    "plt.axvline(stds,c='k',label=f'{stds:.4f}')\n",
    "plt.axvline(-stds,c='k')\n",
    "plt.title('CMB')\n",
    "plt.legend()"
   ]
  },
  {
   "cell_type": "code",
   "execution_count": null,
   "id": "1f7d40b1-9ce9-4eda-bbbd-99364216df62",
   "metadata": {},
   "outputs": [],
   "source": []
  }
 ],
 "metadata": {
  "kernelspec": {
   "display_name": "tensorflow-2.9.0",
   "language": "python",
   "name": "tensorflow-2.9.0"
  },
  "language_info": {
   "codemirror_mode": {
    "name": "ipython",
    "version": 3
   },
   "file_extension": ".py",
   "mimetype": "text/x-python",
   "name": "python",
   "nbconvert_exporter": "python",
   "pygments_lexer": "ipython3",
   "version": "3.9.15"
  }
 },
 "nbformat": 4,
 "nbformat_minor": 5
}
