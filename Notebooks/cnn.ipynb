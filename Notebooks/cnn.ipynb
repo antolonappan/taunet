{
 "cells": [
  {
   "cell_type": "code",
   "execution_count": 1,
   "id": "8ebfe46d-41ed-4148-91f6-db7c19d78f1b",
   "metadata": {
    "tags": []
   },
   "outputs": [],
   "source": [
    "import sys\n",
    "sys.path.append('../')\n",
    "from tqdm import tqdm\n",
    "from sklearn.model_selection import train_test_split\n",
    "import nnhealpix.layers\n",
    "import tensorflow as tf\n",
    "import matplotlib.pyplot as plt\n",
    "import pickle as pl"
   ]
  },
  {
   "cell_type": "code",
   "execution_count": 2,
   "id": "26ee053b-8887-433e-9eb0-7d786614484a",
   "metadata": {
    "tags": []
   },
   "outputs": [
    {
     "name": "stdout",
     "output_type": "stream",
     "text": [
      "TauNet: Running on perlmutter\n"
     ]
    }
   ],
   "source": [
    "%load_ext autoreload\n",
    "%autoreload 2\n",
    "from taunet.simulation import * \n",
    "from taunet.ncm import NoiseModel\n",
    "from taunet.cnn import TauNet"
   ]
  },
  {
   "cell_type": "code",
   "execution_count": 3,
   "id": "c3e1c9cf-63ac-459b-9a0b-a36211c69ab9",
   "metadata": {
    "tags": []
   },
   "outputs": [],
   "source": [
    "taus = np.round(np.arange(0.01,0.13,5e-4),4)\n",
    "cmb = CMBmap(taus,nsim=240000,verbose=False)"
   ]
  },
  {
   "cell_type": "code",
   "execution_count": 4,
   "id": "b31d5864-8318-4893-8c16-2d2ef03ad0be",
   "metadata": {
    "tags": []
   },
   "outputs": [],
   "source": [
    "nm = NoiseModel(method='ffp8')"
   ]
  },
  {
   "cell_type": "code",
   "execution_count": 5,
   "id": "380b6dc6-1a40-4468-b707-5558bd0bcdae",
   "metadata": {
    "tags": []
   },
   "outputs": [],
   "source": [
    "taus = cmb.tau_dis"
   ]
  },
  {
   "cell_type": "code",
   "execution_count": 46,
   "id": "86d5db5a-d5d3-4a68-9bbb-34ef59ce0a60",
   "metadata": {
    "tags": []
   },
   "outputs": [
    {
     "data": {
      "text/plain": [
       "Text(0.5, 0, '$\\\\tau$')"
      ]
     },
     "execution_count": 46,
     "metadata": {},
     "output_type": "execute_result"
    },
    {
     "data": {
      "image/png": "[encoded data removed]",
      "text/plain": [
       "<Figure size 640x480 with 1 Axes>"
      ]
     },
     "metadata": {},
     "output_type": "display_data"
    }
   ],
   "source": [
    "TAU = taus\n",
    "null = plt.hist(TAU, bins=500)\n",
    "plt.xlabel('$\\\\tau$', fontsize=20)"
   ]
  },
  {
   "cell_type": "code",
   "execution_count": 7,
   "id": "f97b801a-f473-4de9-9ef6-f97469782dc2",
   "metadata": {
    "tags": []
   },
   "outputs": [],
   "source": [
    "# QU_S = []\n",
    "# QU_N100 = []\n",
    "# QU_N143 = []\n",
    "# for i in tqdm(range(1000)):\n",
    "#     #QU_S.append(hp.alm2cl(hp.map2alm_spin(cmb.QU(i)*1e-6,2,lmax=48)[0]))  \n",
    "#     #QU_N100.append(hp.alm2cl(hp.map2alm_spin(nm.noisemap(freq=100,idx=i,order='ring'),2,lmax=48)[0]))\n",
    "#     QU_S.append(cmb.QU(i).T*1e-6)\n",
    "#     QU_N100.append(nm.noisemap(freq=100,idx=i,order='ring').T)\n",
    "#     QU_N143.append(nm.noisemap(freq=143,idx=i,order='ring').T)"
   ]
  },
  {
   "cell_type": "code",
   "execution_count": 8,
   "id": "75dbe13c-fd58-470c-89b4-fa91ea730b5c",
   "metadata": {
    "tags": []
   },
   "outputs": [],
   "source": [
    "# pl.dump(QU_S, open('/pscratch/sd/l/lonappan/cmb.pkl','wb'))\n",
    "# del QU_S"
   ]
  },
  {
   "cell_type": "code",
   "execution_count": 9,
   "id": "53c75076-ff07-40f2-8cad-8591be005e77",
   "metadata": {
    "tags": []
   },
   "outputs": [],
   "source": [
    "# pl.dump(QU_N100, open('/pscratch/sd/l/lonappan/ffp8_N100.pkl','wb'))\n",
    "# del QU_N100"
   ]
  },
  {
   "cell_type": "code",
   "execution_count": 10,
   "id": "47152668-b7e5-4c28-81fa-45da834b1695",
   "metadata": {
    "tags": []
   },
   "outputs": [],
   "source": [
    "# pl.dump(QU_N143, open('/pscratch/sd/l/lonappan/ffp8_N143.pkl','wb'))\n",
    "# del QU_N143"
   ]
  },
  {
   "cell_type": "code",
   "execution_count": 11,
   "id": "6df3a497-eda7-4858-964e-530b4ce19e67",
   "metadata": {
    "tags": []
   },
   "outputs": [],
   "source": [
    "QU_S = pl.load(open('/pscratch/sd/l/lonappan/cmb.pkl','rb'))"
   ]
  },
  {
   "cell_type": "code",
   "execution_count": null,
   "id": "7a4cec90-dca5-4bca-8c5f-0319830b757d",
   "metadata": {},
   "outputs": [],
   "source": []
  },
  {
   "cell_type": "code",
   "execution_count": null,
   "id": "c7fcd3ad-8770-4c16-8c7d-c2e42712bf1b",
   "metadata": {},
   "outputs": [],
   "source": []
  },
  {
   "cell_type": "code",
   "execution_count": 12,
   "id": "aa3b3460-21d4-480b-842c-1841e03b4071",
   "metadata": {
    "tags": []
   },
   "outputs": [
    {
     "name": "stdout",
     "output_type": "stream",
     "text": [
      "240000 240000\n"
     ]
    }
   ],
   "source": [
    "print(len(TAU),len(QU_S))"
   ]
  },
  {
   "cell_type": "code",
   "execution_count": 13,
   "id": "5bc49769-f781-40bd-8aa7-45d673e39f62",
   "metadata": {
    "tags": []
   },
   "outputs": [],
   "source": [
    "Xs_train, Xs_test, ys_train, ys_test = train_test_split(np.array(QU_S), TAU, test_size=0.2, random_state=42)"
   ]
  },
  {
   "cell_type": "code",
   "execution_count": 7,
   "id": "fdbda9c6-ccfd-46de-8e2a-cc4458fdf201",
   "metadata": {
    "tags": []
   },
   "outputs": [
    {
     "name": "stderr",
     "output_type": "stream",
     "text": [
      "2024-04-16 13:03:47.334776: I tensorflow/core/platform/cpu_feature_guard.cc:193] This TensorFlow binary is optimized with oneAPI Deep Neural Network Library (oneDNN) to use the following CPU instructions in performance-critical operations:  AVX2 FMA\n",
      "To enable them in other operations, rebuild TensorFlow with the appropriate compiler flags.\n",
      "2024-04-16 13:03:48.109651: I tensorflow/core/common_runtime/gpu/gpu_device.cc:1532] Created device /job:localhost/replica:0/task:0/device:GPU:0 with 35467 MB memory:  -> device: 0, name: NVIDIA A100-PCIE-40GB, pci bus id: 0000:c3:00.0, compute capability: 8.0\n"
     ]
    }
   ],
   "source": [
    "models = TauNet(nmaps=2)"
   ]
  },
  {
   "cell_type": "code",
   "execution_count": 10,
   "id": "6096618f-ce68-4fd7-a6bf-6e5c5534f910",
   "metadata": {
    "tags": []
   },
   "outputs": [],
   "source": [
    "models.load('../Nets/cmb.keras')"
   ]
  },
  {
   "cell_type": "code",
   "execution_count": 15,
   "id": "3c6b368b-cf1b-4e6d-9d1c-5f45ba4a4e84",
   "metadata": {
    "tags": []
   },
   "outputs": [],
   "source": [
    "del QU_S"
   ]
  },
  {
   "cell_type": "code",
   "execution_count": 16,
   "id": "545d565f-37d5-4df6-b973-ccef58a913b6",
   "metadata": {
    "tags": []
   },
   "outputs": [
    {
     "name": "stdout",
     "output_type": "stream",
     "text": [
      "Epoch 1/45\n"
     ]
    },
    {
     "name": "stderr",
     "output_type": "stream",
     "text": [
      "2024-04-16 12:03:27.605515: I tensorflow/stream_executor/cuda/cuda_dnn.cc:384] Loaded cuDNN version 8302\n",
      "2024-04-16 12:03:28.556274: I tensorflow/stream_executor/cuda/cuda_blas.cc:1786] TensorFloat-32 will be used for the matrix multiplication. This will only be logged once.\n"
     ]
    },
    {
     "name": "stdout",
     "output_type": "stream",
     "text": [
      "6000/6000 [==============================] - 35s 5ms/step - loss: 0.0044 - mean_squared_error: 0.0025 - val_loss: 0.0015 - val_mean_squared_error: 0.0025 - lr: 0.0010\n",
      "Epoch 2/45\n",
      "6000/6000 [==============================] - 27s 5ms/step - loss: 0.0014 - mean_squared_error: 0.0026 - val_loss: 9.2438e-04 - val_mean_squared_error: 0.0027 - lr: 0.0010\n",
      "Epoch 3/45\n",
      "6000/6000 [==============================] - 28s 5ms/step - loss: 9.6962e-04 - mean_squared_error: 0.0027 - val_loss: 7.4881e-04 - val_mean_squared_error: 0.0027 - lr: 0.0010\n",
      "Epoch 4/45\n",
      "6000/6000 [==============================] - 28s 5ms/step - loss: 7.1064e-04 - mean_squared_error: 0.0027 - val_loss: 5.2499e-04 - val_mean_squared_error: 0.0027 - lr: 0.0010\n",
      "Epoch 5/45\n",
      "6000/6000 [==============================] - 26s 4ms/step - loss: 5.9233e-04 - mean_squared_error: 0.0028 - val_loss: 5.3011e-04 - val_mean_squared_error: 0.0027 - lr: 0.0010\n",
      "Epoch 6/45\n",
      "6000/6000 [==============================] - 26s 4ms/step - loss: 5.2896e-04 - mean_squared_error: 0.0028 - val_loss: 3.9855e-04 - val_mean_squared_error: 0.0028 - lr: 0.0010\n",
      "Epoch 7/45\n",
      "6000/6000 [==============================] - 24s 4ms/step - loss: 4.8284e-04 - mean_squared_error: 0.0030 - val_loss: 4.8323e-04 - val_mean_squared_error: 0.0033 - lr: 0.0010\n",
      "Epoch 8/45\n",
      "6000/6000 [==============================] - 25s 4ms/step - loss: 4.6480e-04 - mean_squared_error: 0.0033 - val_loss: 3.8109e-04 - val_mean_squared_error: 0.0033 - lr: 0.0010\n",
      "Epoch 9/45\n",
      "6000/6000 [==============================] - 25s 4ms/step - loss: 4.4445e-04 - mean_squared_error: 0.0033 - val_loss: 3.3592e-04 - val_mean_squared_error: 0.0033 - lr: 0.0010\n",
      "Epoch 10/45\n",
      "6000/6000 [==============================] - 26s 4ms/step - loss: 4.2280e-04 - mean_squared_error: 0.0033 - val_loss: 3.1588e-04 - val_mean_squared_error: 0.0033 - lr: 0.0010\n",
      "Epoch 11/45\n",
      "6000/6000 [==============================] - 26s 4ms/step - loss: 4.1314e-04 - mean_squared_error: 0.0033 - val_loss: 3.7039e-04 - val_mean_squared_error: 0.0033 - lr: 0.0010\n",
      "Epoch 12/45\n",
      "6000/6000 [==============================] - 26s 4ms/step - loss: 3.6077e-04 - mean_squared_error: 0.0033 - val_loss: 3.0027e-04 - val_mean_squared_error: 0.0033 - lr: 1.0000e-04\n",
      "Epoch 13/45\n",
      "6000/6000 [==============================] - 27s 4ms/step - loss: 3.5709e-04 - mean_squared_error: 0.0033 - val_loss: 2.9583e-04 - val_mean_squared_error: 0.0033 - lr: 1.0000e-04\n",
      "Epoch 14/45\n",
      "6000/6000 [==============================] - 26s 4ms/step - loss: 3.5523e-04 - mean_squared_error: 0.0033 - val_loss: 3.1664e-04 - val_mean_squared_error: 0.0033 - lr: 1.0000e-04\n",
      "Epoch 15/45\n",
      "6000/6000 [==============================] - 27s 4ms/step - loss: 3.5502e-04 - mean_squared_error: 0.0033 - val_loss: 3.2542e-04 - val_mean_squared_error: 0.0033 - lr: 1.0000e-04\n",
      "Epoch 16/45\n",
      "6000/6000 [==============================] - 28s 5ms/step - loss: 3.5348e-04 - mean_squared_error: 0.0033 - val_loss: 3.1155e-04 - val_mean_squared_error: 0.0033 - lr: 1.0000e-04\n",
      "Epoch 17/45\n",
      "6000/6000 [==============================] - 25s 4ms/step - loss: 3.5337e-04 - mean_squared_error: 0.0033 - val_loss: 2.9615e-04 - val_mean_squared_error: 0.0033 - lr: 1.0000e-04\n",
      "Epoch 18/45\n",
      "6000/6000 [==============================] - 26s 4ms/step - loss: 3.4985e-04 - mean_squared_error: 0.0033 - val_loss: 2.9071e-04 - val_mean_squared_error: 0.0033 - lr: 1.0000e-04\n",
      "Epoch 19/45\n",
      "6000/6000 [==============================] - 25s 4ms/step - loss: 3.4346e-04 - mean_squared_error: 0.0033 - val_loss: 2.8720e-04 - val_mean_squared_error: 0.0033 - lr: 1.0000e-05\n",
      "Epoch 20/45\n",
      "6000/6000 [==============================] - 25s 4ms/step - loss: 3.4360e-04 - mean_squared_error: 0.0033 - val_loss: 2.8685e-04 - val_mean_squared_error: 0.0033 - lr: 1.0000e-05\n",
      "Epoch 21/45\n",
      "6000/6000 [==============================] - 26s 4ms/step - loss: 3.4262e-04 - mean_squared_error: 0.0033 - val_loss: 2.8741e-04 - val_mean_squared_error: 0.0033 - lr: 1.0000e-05\n",
      "Epoch 22/45\n",
      "6000/6000 [==============================] - 26s 4ms/step - loss: 3.4319e-04 - mean_squared_error: 0.0033 - val_loss: 2.8737e-04 - val_mean_squared_error: 0.0033 - lr: 1.0000e-05\n",
      "Epoch 23/45\n",
      "6000/6000 [==============================] - 25s 4ms/step - loss: 3.4254e-04 - mean_squared_error: 0.0033 - val_loss: 2.8698e-04 - val_mean_squared_error: 0.0033 - lr: 1.0000e-05\n",
      "Epoch 24/45\n",
      "6000/6000 [==============================] - 27s 4ms/step - loss: 3.4206e-04 - mean_squared_error: 0.0033 - val_loss: 2.8629e-04 - val_mean_squared_error: 0.0033 - lr: 1.0000e-06\n",
      "Epoch 25/45\n",
      "6000/6000 [==============================] - 28s 5ms/step - loss: 3.4165e-04 - mean_squared_error: 0.0033 - val_loss: 2.8632e-04 - val_mean_squared_error: 0.0033 - lr: 1.0000e-06\n",
      "Epoch 26/45\n",
      "6000/6000 [==============================] - 27s 4ms/step - loss: 3.4178e-04 - mean_squared_error: 0.0033 - val_loss: 2.8625e-04 - val_mean_squared_error: 0.0033 - lr: 1.0000e-06\n",
      "Epoch 27/45\n",
      "6000/6000 [==============================] - 28s 5ms/step - loss: 3.4221e-04 - mean_squared_error: 0.0033 - val_loss: 2.8644e-04 - val_mean_squared_error: 0.0033 - lr: 1.0000e-06\n",
      "Epoch 28/45\n",
      "6000/6000 [==============================] - 28s 5ms/step - loss: 3.4247e-04 - mean_squared_error: 0.0033 - val_loss: 2.8642e-04 - val_mean_squared_error: 0.0033 - lr: 1.0000e-06\n",
      "Epoch 29/45\n",
      "6000/6000 [==============================] - 26s 4ms/step - loss: 3.4170e-04 - mean_squared_error: 0.0033 - val_loss: 2.8622e-04 - val_mean_squared_error: 0.0033 - lr: 1.0000e-07\n",
      "Epoch 30/45\n",
      "6000/6000 [==============================] - 26s 4ms/step - loss: 3.4189e-04 - mean_squared_error: 0.0033 - val_loss: 2.8621e-04 - val_mean_squared_error: 0.0033 - lr: 1.0000e-07\n",
      "Epoch 31/45\n",
      "6000/6000 [==============================] - 25s 4ms/step - loss: 3.4195e-04 - mean_squared_error: 0.0033 - val_loss: 2.8627e-04 - val_mean_squared_error: 0.0033 - lr: 1.0000e-07\n",
      "Epoch 32/45\n",
      "6000/6000 [==============================] - 25s 4ms/step - loss: 3.4171e-04 - mean_squared_error: 0.0033 - val_loss: 2.8620e-04 - val_mean_squared_error: 0.0033 - lr: 1.0000e-07\n",
      "Epoch 33/45\n",
      "6000/6000 [==============================] - 26s 4ms/step - loss: 3.4188e-04 - mean_squared_error: 0.0033 - val_loss: 2.8620e-04 - val_mean_squared_error: 0.0033 - lr: 1.0000e-07\n",
      "Epoch 34/45\n",
      "6000/6000 [==============================] - 26s 4ms/step - loss: 3.4183e-04 - mean_squared_error: 0.0033 - val_loss: 2.8620e-04 - val_mean_squared_error: 0.0033 - lr: 1.0000e-08\n",
      "Epoch 35/45\n",
      "6000/6000 [==============================] - 26s 4ms/step - loss: 3.4302e-04 - mean_squared_error: 0.0033 - val_loss: 2.8620e-04 - val_mean_squared_error: 0.0033 - lr: 1.0000e-08\n",
      "Epoch 36/45\n",
      "6000/6000 [==============================] - 25s 4ms/step - loss: 3.4152e-04 - mean_squared_error: 0.0033 - val_loss: 2.8620e-04 - val_mean_squared_error: 0.0033 - lr: 1.0000e-08\n",
      "Epoch 37/45\n",
      "6000/6000 [==============================] - 27s 4ms/step - loss: 3.4218e-04 - mean_squared_error: 0.0033 - val_loss: 2.8620e-04 - val_mean_squared_error: 0.0033 - lr: 1.0000e-08\n",
      "Epoch 38/45\n",
      "6000/6000 [==============================] - 26s 4ms/step - loss: 3.4131e-04 - mean_squared_error: 0.0033 - val_loss: 2.8620e-04 - val_mean_squared_error: 0.0033 - lr: 1.0000e-08\n",
      "Epoch 39/45\n",
      "6000/6000 [==============================] - 26s 4ms/step - loss: 3.4141e-04 - mean_squared_error: 0.0033 - val_loss: 2.8620e-04 - val_mean_squared_error: 0.0033 - lr: 1.0000e-09\n",
      "Epoch 40/45\n",
      "6000/6000 [==============================] - 26s 4ms/step - loss: 3.4105e-04 - mean_squared_error: 0.0033 - val_loss: 2.8620e-04 - val_mean_squared_error: 0.0033 - lr: 1.0000e-09\n",
      "Epoch 41/45\n",
      "6000/6000 [==============================] - 26s 4ms/step - loss: 3.4262e-04 - mean_squared_error: 0.0033 - val_loss: 2.8620e-04 - val_mean_squared_error: 0.0033 - lr: 1.0000e-09\n",
      "Epoch 42/45\n",
      "6000/6000 [==============================] - 26s 4ms/step - loss: 3.4088e-04 - mean_squared_error: 0.0033 - val_loss: 2.8620e-04 - val_mean_squared_error: 0.0033 - lr: 1.0000e-09\n",
      "Epoch 43/45\n",
      "6000/6000 [==============================] - 25s 4ms/step - loss: 3.4116e-04 - mean_squared_error: 0.0033 - val_loss: 2.8620e-04 - val_mean_squared_error: 0.0033 - lr: 1.0000e-09\n",
      "Epoch 44/45\n",
      "6000/6000 [==============================] - 26s 4ms/step - loss: 3.4169e-04 - mean_squared_error: 0.0033 - val_loss: 2.8620e-04 - val_mean_squared_error: 0.0033 - lr: 1.0000e-10\n",
      "Epoch 45/45\n",
      "6000/6000 [==============================] - 26s 4ms/step - loss: 3.4167e-04 - mean_squared_error: 0.0033 - val_loss: 2.8620e-04 - val_mean_squared_error: 0.0033 - lr: 1.0000e-10\n"
     ]
    }
   ],
   "source": [
    "hists = models.compile_and_fit(Xs_train,ys_train,Xs_test,ys_test)"
   ]
  },
  {
   "cell_type": "code",
   "execution_count": 17,
   "id": "4966f6f1-7cb3-494d-806e-1b750aa6c704",
   "metadata": {
    "tags": []
   },
   "outputs": [],
   "source": [
    "models.save('cmb.keras')"
   ]
  },
  {
   "cell_type": "code",
   "execution_count": 18,
   "id": "bf6bb1d8-ea9e-41a8-b660-dff2a2c8bb95",
   "metadata": {
    "tags": []
   },
   "outputs": [
    {
     "name": "stdout",
     "output_type": "stream",
     "text": [
      "1500/1500 [==============================] - 3s 2ms/step\n"
     ]
    }
   ],
   "source": [
    "predicts = models.predict(Xs_test)"
   ]
  },
  {
   "cell_type": "code",
   "execution_count": 19,
   "id": "9db00548-3acc-444a-b8a3-a8bc89cb7f70",
   "metadata": {
    "tags": []
   },
   "outputs": [],
   "source": [
    "diffs = predicts[:,0] - ys_test.flatten()\n",
    "stds = np.std(diffs)"
   ]
  },
  {
   "cell_type": "code",
   "execution_count": 36,
   "id": "f3219d03-9bc3-4233-98b1-0bf1fa08e101",
   "metadata": {
    "tags": []
   },
   "outputs": [
    {
     "data": {
      "image/png": "[encoded data removed]",
      "text/plain": [
       "<Figure size 640x480 with 1 Axes>"
      ]
     },
     "metadata": {},
     "output_type": "display_data"
    }
   ],
   "source": [
    "plt.hist(predicts[:,0] - ys_test.flatten(),bins=50)\n",
    "plt.xlabel('$\\\\tau_{predict} - \\\\tau_{true}$',fontsize=15)\n",
    "plt.axvline(stds,c='k',label=f'{stds:.4f}')\n",
    "plt.axvline(-stds,c='k')\n",
    "plt.title(f'CMB only; $\\sigma=${np.mean(np.abs(predicts[:,1])):.4f}')\n",
    "plt.legend()\n",
    "plt.savefig('cmbonly.pdf',dpi=300,bbox_inches='tight')"
   ]
  },
  {
   "cell_type": "code",
   "execution_count": 27,
   "id": "662f3b8c-9524-4678-9762-60422575e0be",
   "metadata": {
    "tags": []
   },
   "outputs": [
    {
     "data": {
      "text/plain": [
       "0.003186234"
      ]
     },
     "execution_count": 27,
     "metadata": {},
     "output_type": "execute_result"
    }
   ],
   "source": [
    "np.mean(np.abs(predicts[:,1]))"
   ]
  },
  {
   "cell_type": "code",
   "execution_count": 36,
   "id": "e891e93d-6478-4a42-a2fe-6bb860c693b7",
   "metadata": {
    "tags": []
   },
   "outputs": [],
   "source": [
    "t1 = 0.07"
   ]
  },
  {
   "cell_type": "code",
   "execution_count": 37,
   "id": "470e3aed-a270-4c85-8e93-c4a31bc16e65",
   "metadata": {
    "tags": []
   },
   "outputs": [
    {
     "name": "stderr",
     "output_type": "stream",
     "text": [
      "100%|██████████| 10000/10000 [00:48<00:00, 207.08it/s]\n"
     ]
    }
   ],
   "source": [
    "cmb_t1 = CMBmap(t1,nsim=10000,verbose=False)\n",
    "cmb_T1 = []\n",
    "for i in tqdm(range(10000)):\n",
    "    cmb_T1.append(cmb_t1.QU(i).T*1e-6)"
   ]
  },
  {
   "cell_type": "code",
   "execution_count": 38,
   "id": "45758e3c-9d5f-4309-be84-56759082b008",
   "metadata": {
    "tags": []
   },
   "outputs": [],
   "source": [
    "cmb_T1 = np.array(cmb_T1)"
   ]
  },
  {
   "cell_type": "code",
   "execution_count": 39,
   "id": "65675a27-3794-4c7f-b55e-5dbe3ff576b4",
   "metadata": {
    "tags": []
   },
   "outputs": [
    {
     "name": "stdout",
     "output_type": "stream",
     "text": [
      "313/313 [==============================] - 1s 2ms/step\n"
     ]
    }
   ],
   "source": [
    "predicts_T1 = models.predict(cmb_T1)\n",
    "stds_T1 = np.std(predicts_T1[:,0])"
   ]
  },
  {
   "cell_type": "code",
   "execution_count": 41,
   "id": "04bf2220-5991-476e-8f62-5bd9ec2da6a7",
   "metadata": {
    "tags": []
   },
   "outputs": [
    {
     "data": {
      "image/png": "[encoded data removed]",
      "text/plain": [
       "<Figure size 640x480 with 1 Axes>"
      ]
     },
     "metadata": {},
     "output_type": "display_data"
    }
   ],
   "source": [
    "plt.hist(predicts_T1[:,0],bins=40)\n",
    "plt.xlabel('$\\\\tau_{predict}$',fontsize=15)\n",
    "plt.axvline(stds_T1+t1,c='k',label=f'{stds_T1:.4f}')\n",
    "plt.axvline(-stds_T1+t1,c='k')\n",
    "plt.axvline(t1,c='k',ls='--',label='Truth')\n",
    "plt.title(f'CMB only; $\\sigma=${np.mean(np.abs(predicts_T1[:,1])):.4f}')\n",
    "plt.legend()\n",
    "plt.savefig(f\"cmbonly{str(t1).replace('.','p')}.pdf\",dpi=300,bbox_inches='tight')"
   ]
  },
  {
   "cell_type": "code",
   "execution_count": 34,
   "id": "eebf03d8-8fe0-403f-b620-4977d5b781d0",
   "metadata": {
    "tags": []
   },
   "outputs": [
    {
     "data": {
      "text/plain": [
       "'0p06'"
      ]
     },
     "execution_count": 34,
     "metadata": {},
     "output_type": "execute_result"
    }
   ],
   "source": [
    "str(t1).replace('.','p')"
   ]
  },
  {
   "cell_type": "code",
   "execution_count": null,
   "id": "2ee751a4-fd09-4ffb-aa88-70cee2e22fb7",
   "metadata": {},
   "outputs": [],
   "source": []
  }
 ],
 "metadata": {
  "kernelspec": {
   "display_name": "Pybase",
   "language": "python",
   "name": "base"
  },
  "language_info": {
   "codemirror_mode": {
    "name": "ipython",
    "version": 3
   },
   "file_extension": ".py",
   "mimetype": "text/x-python",
   "name": "python",
   "nbconvert_exporter": "python",
   "pygments_lexer": "ipython3",
   "version": "3.9.7"
  }
 },
 "nbformat": 4,
 "nbformat_minor": 5
}
