{
 "cells": [
  {
   "cell_type": "code",
   "execution_count": 11,
   "id": "8ebfe46d-41ed-4148-91f6-db7c19d78f1b",
   "metadata": {
    "tags": []
   },
   "outputs": [],
   "source": [
    "import sys\n",
    "sys.path.append('../')\n",
    "from tqdm import tqdm\n",
    "from sklearn.model_selection import train_test_split\n",
    "import matplotlib.pyplot as plt"
   ]
  },
  {
   "cell_type": "code",
   "execution_count": 2,
   "id": "26ee053b-8887-433e-9eb0-7d786614484a",
   "metadata": {
    "tags": []
   },
   "outputs": [
    {
     "name": "stdout",
     "output_type": "stream",
     "text": [
      "TauNet: Running on perlmutter\n"
     ]
    },
    {
     "name": "stderr",
     "output_type": "stream",
     "text": [
      "/global/u2/l/lonappan/workspace/taunet/Notebooks/../taunet/config.py:9: UserWarning: FFP8 not available on NERSC\n",
      "  warnings.warn('FFP8 not available on NERSC')\n"
     ]
    }
   ],
   "source": [
    "%load_ext autoreload\n",
    "%autoreload 2\n",
    "from taunet.simulation import * \n",
    "from taunet.database import *\n",
    "from taunet.cnn import TauNet"
   ]
  },
  {
   "cell_type": "code",
   "execution_count": 3,
   "id": "c3e1c9cf-63ac-459b-9a0b-a36211c69ab9",
   "metadata": {
    "tags": []
   },
   "outputs": [],
   "source": [
    "import os"
   ]
  },
  {
   "cell_type": "code",
   "execution_count": 4,
   "id": "f122d7aa-e1fd-433e-95b4-cc834bf33943",
   "metadata": {
    "tags": []
   },
   "outputs": [],
   "source": [
    "spectradb = SpectrumDB()\n",
    "mapdb = MapDB()"
   ]
  },
  {
   "cell_type": "code",
   "execution_count": 5,
   "id": "380b6dc6-1a40-4468-b707-5558bd0bcdae",
   "metadata": {
    "tags": []
   },
   "outputs": [],
   "source": [
    "taus = np.array(spectradb.get_all_taus())"
   ]
  },
  {
   "cell_type": "code",
   "execution_count": 7,
   "id": "0bfd0184-2154-4509-932c-d3e2ddedc77b",
   "metadata": {
    "tags": []
   },
   "outputs": [
    {
     "name": "stderr",
     "output_type": "stream",
     "text": [
      "100%|██████████| 240000/240000 [00:02<00:00, 114456.60it/s]\n"
     ]
    }
   ],
   "source": [
    "TAU = []\n",
    "for i in tqdm(range(240000)):\n",
    "    TAU.append(np.random.choice(taus))\n",
    "TAU = np.array(TAU)"
   ]
  },
  {
   "cell_type": "code",
   "execution_count": 10,
   "id": "86d5db5a-d5d3-4a68-9bbb-34ef59ce0a60",
   "metadata": {
    "tags": []
   },
   "outputs": [
    {
     "data": {
      "image/png": "[encoded data removed]",
      "text/plain": [
       "<Figure size 640x480 with 1 Axes>"
      ]
     },
     "metadata": {},
     "output_type": "display_data"
    }
   ],
   "source": [
    "null = plt.hist(TAU, bins=500)"
   ]
  },
  {
   "cell_type": "code",
   "execution_count": null,
   "id": "cd863b49-d129-4359-9b26-92b8150cb252",
   "metadata": {
    "tags": []
   },
   "outputs": [],
   "source": [
    "QU_S = np.array(QU_cmb)\n",
    "QU_SN = np.array(QU_cmb_noise)\n",
    "TAU = np.array(TAU)"
   ]
  },
  {
   "cell_type": "code",
   "execution_count": null,
   "id": "5bc49769-f781-40bd-8aa7-45d673e39f62",
   "metadata": {
    "tags": []
   },
   "outputs": [],
   "source": [
    "Xs_train, Xs_test, ys_train, ys_test = train_test_split(QU_S, TAU, test_size=0.1, random_state=42)\n",
    "Xsn_train, Xsn_test, ysn_train, ysn_test = train_test_split(QU_SN, TAU, test_size=0.1, random_state=42)"
   ]
  },
  {
   "cell_type": "code",
   "execution_count": null,
   "id": "fdbda9c6-ccfd-46de-8e2a-cc4458fdf201",
   "metadata": {
    "tags": []
   },
   "outputs": [
    {
     "name": "stderr",
     "output_type": "stream",
     "text": [
      "2023-12-17 23:23:19.953368: I tensorflow/core/platform/cpu_feature_guard.cc:193] This TensorFlow binary is optimized with oneAPI Deep Neural Network Library (oneDNN) to use the following CPU instructions in performance-critical operations:  AVX2 FMA\n",
      "To enable them in other operations, rebuild TensorFlow with the appropriate compiler flags.\n",
      "2023-12-17 23:23:20.859401: I tensorflow/core/common_runtime/gpu/gpu_device.cc:1532] Created device /job:localhost/replica:0/task:0/device:GPU:0 with 78933 MB memory:  -> device: 0, name: NVIDIA A100-SXM4-80GB, pci bus id: 0000:c1:00.0, compute capability: 8.0\n"
     ]
    }
   ],
   "source": [
    "models = TauNet(nmaps=2)\n",
    "modelsn = TauNet(nmaps=2)"
   ]
  },
  {
   "cell_type": "code",
   "execution_count": null,
   "id": "545d565f-37d5-4df6-b973-ccef58a913b6",
   "metadata": {
    "tags": []
   },
   "outputs": [
    {
     "name": "stdout",
     "output_type": "stream",
     "text": [
      "Epoch 1/45\n"
     ]
    },
    {
     "name": "stderr",
     "output_type": "stream",
     "text": [
      "2023-12-17 23:23:26.627033: I tensorflow/stream_executor/cuda/cuda_dnn.cc:384] Loaded cuDNN version 8302\n",
      "2023-12-17 23:23:28.366089: I tensorflow/stream_executor/cuda/cuda_blas.cc:1786] TensorFloat-32 will be used for the matrix multiplication. This will only be logged once.\n"
     ]
    },
    {
     "name": "stdout",
     "output_type": "stream",
     "text": [
      "282/282 [==============================] - 8s 5ms/step - loss: 0.0074 - mean_squared_error: 0.0037 - val_loss: 0.0048 - val_mean_squared_error: 0.0029 - lr: 0.0010\n",
      "Epoch 2/45\n",
      "282/282 [==============================] - 1s 4ms/step - loss: 0.0023 - mean_squared_error: 0.0029 - val_loss: 0.0022 - val_mean_squared_error: 0.0030 - lr: 0.0010\n",
      "Epoch 3/45\n",
      "282/282 [==============================] - 1s 4ms/step - loss: 0.0019 - mean_squared_error: 0.0029 - val_loss: 0.0015 - val_mean_squared_error: 0.0028 - lr: 0.0010\n",
      "Epoch 4/45\n",
      "282/282 [==============================] - 1s 4ms/step - loss: 0.0016 - mean_squared_error: 0.0029 - val_loss: 0.0014 - val_mean_squared_error: 0.0028 - lr: 0.0010\n",
      "Epoch 5/45\n",
      "282/282 [==============================] - 1s 4ms/step - loss: 0.0013 - mean_squared_error: 0.0029 - val_loss: 0.0013 - val_mean_squared_error: 0.0029 - lr: 0.0010\n",
      "Epoch 6/45\n",
      "282/282 [==============================] - 1s 4ms/step - loss: 0.0013 - mean_squared_error: 0.0029 - val_loss: 0.0012 - val_mean_squared_error: 0.0029 - lr: 0.0010\n",
      "Epoch 7/45\n",
      "282/282 [==============================] - 1s 4ms/step - loss: 0.0012 - mean_squared_error: 0.0029 - val_loss: 0.0011 - val_mean_squared_error: 0.0029 - lr: 0.0010\n",
      "Epoch 8/45\n",
      "282/282 [==============================] - 1s 4ms/step - loss: 0.0012 - mean_squared_error: 0.0030 - val_loss: 0.0010 - val_mean_squared_error: 0.0030 - lr: 0.0010\n",
      "Epoch 9/45\n",
      "282/282 [==============================] - 1s 4ms/step - loss: 0.0011 - mean_squared_error: 0.0029 - val_loss: 0.0010 - val_mean_squared_error: 0.0029 - lr: 0.0010\n",
      "Epoch 10/45\n",
      "282/282 [==============================] - 1s 4ms/step - loss: 0.0012 - mean_squared_error: 0.0029 - val_loss: 0.0020 - val_mean_squared_error: 0.0029 - lr: 0.0010\n",
      "Epoch 11/45\n",
      "282/282 [==============================] - 1s 4ms/step - loss: 0.0012 - mean_squared_error: 0.0029 - val_loss: 0.0015 - val_mean_squared_error: 0.0030 - lr: 0.0010\n",
      "Epoch 12/45\n",
      "282/282 [==============================] - 1s 4ms/step - loss: 9.4540e-04 - mean_squared_error: 0.0030 - val_loss: 0.0012 - val_mean_squared_error: 0.0030 - lr: 0.0010\n",
      "Epoch 13/45\n",
      "282/282 [==============================] - 1s 4ms/step - loss: 9.8708e-04 - mean_squared_error: 0.0029 - val_loss: 0.0010 - val_mean_squared_error: 0.0029 - lr: 0.0010\n",
      "Epoch 14/45\n",
      "282/282 [==============================] - 1s 4ms/step - loss: 9.6949e-04 - mean_squared_error: 0.0029 - val_loss: 9.3502e-04 - val_mean_squared_error: 0.0029 - lr: 0.0010\n",
      "Epoch 15/45\n",
      "282/282 [==============================] - 1s 4ms/step - loss: 6.8464e-04 - mean_squared_error: 0.0029 - val_loss: 9.5036e-04 - val_mean_squared_error: 0.0029 - lr: 1.0000e-04\n",
      "Epoch 16/45\n",
      "282/282 [==============================] - 1s 4ms/step - loss: 6.6389e-04 - mean_squared_error: 0.0030 - val_loss: 9.0487e-04 - val_mean_squared_error: 0.0030 - lr: 1.0000e-04\n",
      "Epoch 17/45\n",
      "282/282 [==============================] - 1s 4ms/step - loss: 6.6140e-04 - mean_squared_error: 0.0030 - val_loss: 8.9739e-04 - val_mean_squared_error: 0.0030 - lr: 1.0000e-04\n",
      "Epoch 18/45\n",
      "282/282 [==============================] - 1s 4ms/step - loss: 6.3633e-04 - mean_squared_error: 0.0030 - val_loss: 8.8801e-04 - val_mean_squared_error: 0.0030 - lr: 1.0000e-04\n",
      "Epoch 19/45\n",
      "282/282 [==============================] - 1s 4ms/step - loss: 6.2772e-04 - mean_squared_error: 0.0030 - val_loss: 8.9246e-04 - val_mean_squared_error: 0.0030 - lr: 1.0000e-04\n",
      "Epoch 20/45\n",
      "282/282 [==============================] - 1s 4ms/step - loss: 6.1786e-04 - mean_squared_error: 0.0030 - val_loss: 9.5905e-04 - val_mean_squared_error: 0.0030 - lr: 1.0000e-04\n",
      "Epoch 21/45\n",
      "282/282 [==============================] - 1s 4ms/step - loss: 6.2745e-04 - mean_squared_error: 0.0030 - val_loss: 9.2565e-04 - val_mean_squared_error: 0.0029 - lr: 1.0000e-04\n",
      "Epoch 22/45\n",
      "282/282 [==============================] - 1s 4ms/step - loss: 5.7812e-04 - mean_squared_error: 0.0030 - val_loss: 8.8169e-04 - val_mean_squared_error: 0.0029 - lr: 1.0000e-05\n",
      "Epoch 23/45\n",
      "282/282 [==============================] - 1s 4ms/step - loss: 5.7290e-04 - mean_squared_error: 0.0030 - val_loss: 8.7778e-04 - val_mean_squared_error: 0.0029 - lr: 1.0000e-05\n",
      "Epoch 24/45\n",
      "282/282 [==============================] - 1s 4ms/step - loss: 5.7656e-04 - mean_squared_error: 0.0030 - val_loss: 8.7902e-04 - val_mean_squared_error: 0.0030 - lr: 1.0000e-05\n",
      "Epoch 25/45\n",
      "282/282 [==============================] - 1s 4ms/step - loss: 5.7847e-04 - mean_squared_error: 0.0030 - val_loss: 8.8330e-04 - val_mean_squared_error: 0.0029 - lr: 1.0000e-05\n",
      "Epoch 26/45\n",
      "282/282 [==============================] - 1s 4ms/step - loss: 5.7675e-04 - mean_squared_error: 0.0030 - val_loss: 8.8254e-04 - val_mean_squared_error: 0.0030 - lr: 1.0000e-05\n",
      "Epoch 27/45\n",
      "282/282 [==============================] - 1s 4ms/step - loss: 5.7501e-04 - mean_squared_error: 0.0030 - val_loss: 8.8172e-04 - val_mean_squared_error: 0.0030 - lr: 1.0000e-06\n",
      "Epoch 28/45\n",
      "282/282 [==============================] - 1s 4ms/step - loss: 5.7869e-04 - mean_squared_error: 0.0030 - val_loss: 8.8182e-04 - val_mean_squared_error: 0.0030 - lr: 1.0000e-06\n",
      "Epoch 29/45\n",
      "282/282 [==============================] - 1s 4ms/step - loss: 5.8077e-04 - mean_squared_error: 0.0030 - val_loss: 8.8529e-04 - val_mean_squared_error: 0.0030 - lr: 1.0000e-06\n",
      "Epoch 30/45\n",
      "282/282 [==============================] - 1s 4ms/step - loss: 5.7479e-04 - mean_squared_error: 0.0030 - val_loss: 8.8182e-04 - val_mean_squared_error: 0.0030 - lr: 1.0000e-06\n",
      "Epoch 31/45\n",
      "282/282 [==============================] - 1s 4ms/step - loss: 5.7213e-04 - mean_squared_error: 0.0030 - val_loss: 8.8410e-04 - val_mean_squared_error: 0.0030 - lr: 1.0000e-06\n",
      "Epoch 32/45\n",
      "282/282 [==============================] - 1s 4ms/step - loss: 5.6990e-04 - mean_squared_error: 0.0030 - val_loss: 8.8274e-04 - val_mean_squared_error: 0.0030 - lr: 1.0000e-07\n",
      "Epoch 33/45\n",
      "282/282 [==============================] - 1s 4ms/step - loss: 5.7080e-04 - mean_squared_error: 0.0030 - val_loss: 8.8256e-04 - val_mean_squared_error: 0.0030 - lr: 1.0000e-07\n",
      "Epoch 34/45\n",
      "282/282 [==============================] - 1s 4ms/step - loss: 5.7078e-04 - mean_squared_error: 0.0030 - val_loss: 8.8240e-04 - val_mean_squared_error: 0.0030 - lr: 1.0000e-07\n",
      "Epoch 35/45\n",
      "282/282 [==============================] - 1s 4ms/step - loss: 5.7478e-04 - mean_squared_error: 0.0030 - val_loss: 8.8217e-04 - val_mean_squared_error: 0.0030 - lr: 1.0000e-07\n",
      "Epoch 36/45\n",
      "282/282 [==============================] - 1s 4ms/step - loss: 5.7544e-04 - mean_squared_error: 0.0030 - val_loss: 8.8222e-04 - val_mean_squared_error: 0.0030 - lr: 1.0000e-07\n",
      "Epoch 37/45\n",
      "282/282 [==============================] - 1s 4ms/step - loss: 5.7167e-04 - mean_squared_error: 0.0030 - val_loss: 8.8221e-04 - val_mean_squared_error: 0.0030 - lr: 1.0000e-08\n",
      "Epoch 38/45\n",
      "282/282 [==============================] - 1s 4ms/step - loss: 5.6852e-04 - mean_squared_error: 0.0030 - val_loss: 8.8212e-04 - val_mean_squared_error: 0.0030 - lr: 1.0000e-08\n",
      "Epoch 39/45\n",
      "282/282 [==============================] - 1s 4ms/step - loss: 5.6713e-04 - mean_squared_error: 0.0030 - val_loss: 8.8212e-04 - val_mean_squared_error: 0.0030 - lr: 1.0000e-08\n",
      "Epoch 40/45\n",
      "282/282 [==============================] - 1s 4ms/step - loss: 5.7340e-04 - mean_squared_error: 0.0030 - val_loss: 8.8207e-04 - val_mean_squared_error: 0.0030 - lr: 1.0000e-08\n",
      "Epoch 41/45\n",
      "282/282 [==============================] - 1s 4ms/step - loss: 5.7050e-04 - mean_squared_error: 0.0030 - val_loss: 8.8212e-04 - val_mean_squared_error: 0.0030 - lr: 1.0000e-08\n",
      "Epoch 42/45\n",
      "282/282 [==============================] - 1s 4ms/step - loss: 5.6707e-04 - mean_squared_error: 0.0030 - val_loss: 8.8212e-04 - val_mean_squared_error: 0.0030 - lr: 1.0000e-09\n",
      "Epoch 43/45\n",
      "282/282 [==============================] - 1s 4ms/step - loss: 5.6935e-04 - mean_squared_error: 0.0030 - val_loss: 8.8212e-04 - val_mean_squared_error: 0.0030 - lr: 1.0000e-09\n"
     ]
    }
   ],
   "source": [
    "hists = models.compile_and_fit(Xs_train,ys_train,Xs_test,ys_test)"
   ]
  },
  {
   "cell_type": "code",
   "execution_count": null,
   "id": "4b1eed14-fa29-4d4d-88ea-3cf7252fb024",
   "metadata": {
    "tags": []
   },
   "outputs": [
    {
     "name": "stdout",
     "output_type": "stream",
     "text": [
      "Epoch 1/45\n",
      "282/282 [==============================] - 2s 4ms/step - loss: 0.0091 - mean_squared_error: 0.0029 - val_loss: 0.0054 - val_mean_squared_error: 0.0033 - lr: 0.0010\n",
      "Epoch 2/45\n",
      "282/282 [==============================] - 1s 4ms/step - loss: 0.0033 - mean_squared_error: 0.0035 - val_loss: 0.0030 - val_mean_squared_error: 0.0035 - lr: 0.0010\n",
      "Epoch 3/45\n",
      "282/282 [==============================] - 1s 4ms/step - loss: 0.0025 - mean_squared_error: 0.0035 - val_loss: 0.0039 - val_mean_squared_error: 0.0037 - lr: 0.0010\n",
      "Epoch 4/45\n",
      "282/282 [==============================] - 1s 4ms/step - loss: 0.0022 - mean_squared_error: 0.0035 - val_loss: 0.0023 - val_mean_squared_error: 0.0035 - lr: 0.0010\n",
      "Epoch 5/45\n",
      "282/282 [==============================] - 1s 4ms/step - loss: 0.0019 - mean_squared_error: 0.0035 - val_loss: 0.0018 - val_mean_squared_error: 0.0035 - lr: 0.0010\n",
      "Epoch 6/45\n",
      "282/282 [==============================] - 1s 4ms/step - loss: 0.0018 - mean_squared_error: 0.0035 - val_loss: 0.0018 - val_mean_squared_error: 0.0034 - lr: 0.0010\n",
      "Epoch 7/45\n",
      "282/282 [==============================] - 1s 4ms/step - loss: 0.0016 - mean_squared_error: 0.0035 - val_loss: 0.0017 - val_mean_squared_error: 0.0034 - lr: 0.0010\n",
      "Epoch 8/45\n",
      "282/282 [==============================] - 1s 4ms/step - loss: 0.0016 - mean_squared_error: 0.0034 - val_loss: 0.0017 - val_mean_squared_error: 0.0034 - lr: 0.0010\n",
      "Epoch 9/45\n",
      "282/282 [==============================] - 1s 4ms/step - loss: 0.0015 - mean_squared_error: 0.0034 - val_loss: 0.0016 - val_mean_squared_error: 0.0034 - lr: 0.0010\n",
      "Epoch 10/45\n",
      "282/282 [==============================] - 1s 4ms/step - loss: 0.0014 - mean_squared_error: 0.0034 - val_loss: 0.0023 - val_mean_squared_error: 0.0035 - lr: 0.0010\n",
      "Epoch 11/45\n",
      "282/282 [==============================] - 1s 4ms/step - loss: 0.0014 - mean_squared_error: 0.0034 - val_loss: 0.0015 - val_mean_squared_error: 0.0034 - lr: 0.0010\n",
      "Epoch 12/45\n",
      "282/282 [==============================] - 1s 4ms/step - loss: 0.0013 - mean_squared_error: 0.0034 - val_loss: 0.0016 - val_mean_squared_error: 0.0034 - lr: 0.0010\n",
      "Epoch 13/45\n",
      "282/282 [==============================] - 1s 4ms/step - loss: 0.0013 - mean_squared_error: 0.0034 - val_loss: 0.0015 - val_mean_squared_error: 0.0036 - lr: 0.0010\n",
      "Epoch 14/45\n",
      "282/282 [==============================] - 1s 4ms/step - loss: 0.0013 - mean_squared_error: 0.0034 - val_loss: 0.0038 - val_mean_squared_error: 0.0034 - lr: 0.0010\n",
      "Epoch 15/45\n",
      "282/282 [==============================] - 1s 4ms/step - loss: 0.0012 - mean_squared_error: 0.0034 - val_loss: 0.0020 - val_mean_squared_error: 0.0034 - lr: 0.0010\n",
      "Epoch 16/45\n",
      "282/282 [==============================] - 1s 4ms/step - loss: 0.0011 - mean_squared_error: 0.0033 - val_loss: 0.0014 - val_mean_squared_error: 0.0034 - lr: 0.0010\n",
      "Epoch 17/45\n",
      "282/282 [==============================] - 1s 4ms/step - loss: 8.1496e-04 - mean_squared_error: 0.0033 - val_loss: 0.0014 - val_mean_squared_error: 0.0033 - lr: 1.0000e-04\n",
      "Epoch 18/45\n",
      "282/282 [==============================] - 1s 4ms/step - loss: 7.7225e-04 - mean_squared_error: 0.0033 - val_loss: 0.0014 - val_mean_squared_error: 0.0033 - lr: 1.0000e-04\n",
      "Epoch 19/45\n",
      "282/282 [==============================] - 1s 4ms/step - loss: 7.5437e-04 - mean_squared_error: 0.0033 - val_loss: 0.0014 - val_mean_squared_error: 0.0033 - lr: 1.0000e-04\n",
      "Epoch 20/45\n",
      "282/282 [==============================] - 1s 4ms/step - loss: 7.5179e-04 - mean_squared_error: 0.0033 - val_loss: 0.0014 - val_mean_squared_error: 0.0033 - lr: 1.0000e-04\n",
      "Epoch 21/45\n",
      "282/282 [==============================] - 1s 4ms/step - loss: 7.3221e-04 - mean_squared_error: 0.0033 - val_loss: 0.0014 - val_mean_squared_error: 0.0033 - lr: 1.0000e-04\n",
      "Epoch 22/45\n",
      "282/282 [==============================] - 1s 4ms/step - loss: 7.0516e-04 - mean_squared_error: 0.0032 - val_loss: 0.0014 - val_mean_squared_error: 0.0033 - lr: 1.0000e-05\n",
      "Epoch 23/45\n",
      "282/282 [==============================] - 1s 4ms/step - loss: 6.9730e-04 - mean_squared_error: 0.0033 - val_loss: 0.0014 - val_mean_squared_error: 0.0033 - lr: 1.0000e-05\n",
      "Epoch 24/45\n",
      "282/282 [==============================] - 1s 4ms/step - loss: 6.8495e-04 - mean_squared_error: 0.0032 - val_loss: 0.0014 - val_mean_squared_error: 0.0033 - lr: 1.0000e-05\n",
      "Epoch 25/45\n",
      "282/282 [==============================] - 1s 4ms/step - loss: 6.9497e-04 - mean_squared_error: 0.0033 - val_loss: 0.0014 - val_mean_squared_error: 0.0033 - lr: 1.0000e-05\n",
      "Epoch 26/45\n",
      "282/282 [==============================] - 1s 4ms/step - loss: 6.9677e-04 - mean_squared_error: 0.0033 - val_loss: 0.0014 - val_mean_squared_error: 0.0033 - lr: 1.0000e-05\n",
      "Epoch 27/45\n",
      "282/282 [==============================] - 1s 4ms/step - loss: 6.8077e-04 - mean_squared_error: 0.0033 - val_loss: 0.0014 - val_mean_squared_error: 0.0033 - lr: 1.0000e-06\n",
      "Epoch 28/45\n",
      "282/282 [==============================] - 1s 4ms/step - loss: 6.9119e-04 - mean_squared_error: 0.0033 - val_loss: 0.0014 - val_mean_squared_error: 0.0033 - lr: 1.0000e-06\n",
      "Epoch 29/45\n",
      "282/282 [==============================] - 1s 4ms/step - loss: 6.8861e-04 - mean_squared_error: 0.0033 - val_loss: 0.0014 - val_mean_squared_error: 0.0033 - lr: 1.0000e-06\n",
      "Epoch 30/45\n",
      "282/282 [==============================] - 1s 4ms/step - loss: 6.8430e-04 - mean_squared_error: 0.0033 - val_loss: 0.0014 - val_mean_squared_error: 0.0033 - lr: 1.0000e-06\n",
      "Epoch 31/45\n",
      "282/282 [==============================] - 1s 4ms/step - loss: 6.8320e-04 - mean_squared_error: 0.0033 - val_loss: 0.0014 - val_mean_squared_error: 0.0033 - lr: 1.0000e-06\n",
      "Epoch 32/45\n",
      "282/282 [==============================] - 1s 4ms/step - loss: 6.8064e-04 - mean_squared_error: 0.0033 - val_loss: 0.0014 - val_mean_squared_error: 0.0033 - lr: 1.0000e-07\n",
      "Epoch 33/45\n",
      "282/282 [==============================] - 1s 4ms/step - loss: 6.8286e-04 - mean_squared_error: 0.0033 - val_loss: 0.0014 - val_mean_squared_error: 0.0033 - lr: 1.0000e-07\n",
      "Epoch 34/45\n",
      "282/282 [==============================] - 1s 4ms/step - loss: 6.8395e-04 - mean_squared_error: 0.0033 - val_loss: 0.0014 - val_mean_squared_error: 0.0033 - lr: 1.0000e-07\n",
      "Epoch 35/45\n",
      "282/282 [==============================] - 1s 4ms/step - loss: 6.7644e-04 - mean_squared_error: 0.0033 - val_loss: 0.0014 - val_mean_squared_error: 0.0033 - lr: 1.0000e-07\n",
      "Epoch 36/45\n",
      "282/282 [==============================] - 1s 4ms/step - loss: 6.7989e-04 - mean_squared_error: 0.0033 - val_loss: 0.0014 - val_mean_squared_error: 0.0033 - lr: 1.0000e-07\n",
      "Epoch 37/45\n",
      "282/282 [==============================] - 1s 4ms/step - loss: 6.8427e-04 - mean_squared_error: 0.0033 - val_loss: 0.0014 - val_mean_squared_error: 0.0033 - lr: 1.0000e-08\n",
      "Epoch 38/45\n",
      "282/282 [==============================] - 1s 4ms/step - loss: 6.7038e-04 - mean_squared_error: 0.0033 - val_loss: 0.0014 - val_mean_squared_error: 0.0033 - lr: 1.0000e-08\n",
      "Epoch 39/45\n",
      "282/282 [==============================] - 1s 4ms/step - loss: 6.8015e-04 - mean_squared_error: 0.0033 - val_loss: 0.0014 - val_mean_squared_error: 0.0033 - lr: 1.0000e-08\n",
      "Epoch 40/45\n",
      "282/282 [==============================] - 1s 4ms/step - loss: 6.9066e-04 - mean_squared_error: 0.0033 - val_loss: 0.0014 - val_mean_squared_error: 0.0033 - lr: 1.0000e-08\n",
      "Epoch 41/45\n",
      "282/282 [==============================] - 1s 4ms/step - loss: 6.7876e-04 - mean_squared_error: 0.0033 - val_loss: 0.0014 - val_mean_squared_error: 0.0033 - lr: 1.0000e-08\n",
      "Epoch 42/45\n",
      "282/282 [==============================] - 1s 4ms/step - loss: 6.8678e-04 - mean_squared_error: 0.0033 - val_loss: 0.0014 - val_mean_squared_error: 0.0033 - lr: 1.0000e-09\n",
      "Epoch 43/45\n",
      "282/282 [==============================] - 1s 4ms/step - loss: 6.8414e-04 - mean_squared_error: 0.0033 - val_loss: 0.0014 - val_mean_squared_error: 0.0033 - lr: 1.0000e-09\n"
     ]
    }
   ],
   "source": [
    "histsn = modelsn.compile_and_fit(Xsn_train,ysn_train,Xsn_test,ysn_test)"
   ]
  },
  {
   "cell_type": "code",
   "execution_count": null,
   "id": "bf6bb1d8-ea9e-41a8-b660-dff2a2c8bb95",
   "metadata": {},
   "outputs": [
    {
     "name": "stdout",
     "output_type": "stream",
     "text": [
      "32/32 [==============================] - 0s 1ms/step\n",
      "32/32 [==============================] - 0s 1ms/step\n"
     ]
    }
   ],
   "source": [
    "predicts = models.predict(Xs_test)\n",
    "predictsn = modelsn.predict(Xsn_test)"
   ]
  },
  {
   "cell_type": "code",
   "execution_count": null,
   "id": "9db00548-3acc-444a-b8a3-a8bc89cb7f70",
   "metadata": {},
   "outputs": [],
   "source": [
    "diffs = predicts[:,0] - ys_test.flatten()\n",
    "diffsn = predictsn[:,0] - ysn_test.flatten()\n",
    "stds = np.std(diffs)\n",
    "stdsn = np.std(diffsn)"
   ]
  },
  {
   "cell_type": "code",
   "execution_count": null,
   "id": "f3219d03-9bc3-4233-98b1-0bf1fa08e101",
   "metadata": {
    "tags": []
   },
   "outputs": [
    {
     "data": {
      "text/plain": [
       "<matplotlib.legend.Legend at 0x154aab24ed00>"
      ]
     },
     "execution_count": 24,
     "metadata": {},
     "output_type": "execute_result"
    },
    {
     "data": {
      "image/png": "[encoded data removed]",
      "text/plain": [
       "<Figure size 640x480 with 1 Axes>"
      ]
     },
     "metadata": {},
     "output_type": "display_data"
    }
   ],
   "source": [
    "plt.hist(predicts[:,0] - ys_test.flatten(),bins=20)\n",
    "plt.xlabel('$\\\\tau_{predict} - \\\\tau_{true}$',fontsize=15)\n",
    "plt.axvline(stds,c='k',label=f'{stds:.4f}')\n",
    "plt.axvline(-stds,c='k')\n",
    "plt.title('CMB')\n",
    "plt.legend()"
   ]
  },
  {
   "cell_type": "code",
   "execution_count": null,
   "id": "c99cd8e7-aefd-49f5-b0d1-5b462d521424",
   "metadata": {
    "tags": []
   },
   "outputs": [
    {
     "data": {
      "text/plain": [
       "<matplotlib.legend.Legend at 0x154a7092f3d0>"
      ]
     },
     "execution_count": 26,
     "metadata": {},
     "output_type": "execute_result"
    },
    {
     "data": {
      "image/png": "[encoded data removed]",
      "text/plain": [
       "<Figure size 640x480 with 1 Axes>"
      ]
     },
     "metadata": {},
     "output_type": "display_data"
    }
   ],
   "source": [
    "plt.hist(predictsn[:,0] - ysn_test.flatten(),bins=20)\n",
    "plt.xlabel('$\\\\tau_{predict} - \\\\tau_{true}$',fontsize=15)\n",
    "plt.axvline(stdsn,c='k',label=f'{stdsn:.4f}')\n",
    "plt.axvline(-stdsn,c='k')\n",
    "plt.title('CMB')\n",
    "plt.legend()"
   ]
  },
  {
   "cell_type": "code",
   "execution_count": null,
   "id": "1fb62e0e-3907-489a-802d-a217dbc9e89b",
   "metadata": {},
   "outputs": [
    {
     "data": {
      "text/plain": [
       "0.0035355336"
      ]
     },
     "execution_count": 28,
     "metadata": {},
     "output_type": "execute_result"
    }
   ],
   "source": [
    "np.mean(abs(predicts[:,1]))"
   ]
  },
  {
   "cell_type": "code",
   "execution_count": null,
   "id": "65afcc06-39d9-44fe-9490-8f3cfe4a701e",
   "metadata": {},
   "outputs": [
    {
     "data": {
      "text/plain": [
       "0.003582887"
      ]
     },
     "execution_count": 29,
     "metadata": {},
     "output_type": "execute_result"
    }
   ],
   "source": [
    "np.mean(abs(predictsn[:,1]))"
   ]
  },
  {
   "cell_type": "code",
   "execution_count": null,
   "id": "8152628d-80f2-43be-a2c7-03d07af6d532",
   "metadata": {},
   "outputs": [
    {
     "data": {
      "text/plain": [
       "array([-2.27279356e-03,  4.12178179e-03, -5.48772514e-03,  2.28646165e-03,\n",
       "       -1.07614347e-03,  5.35493623e-03,  2.99383653e-04,  5.41582424e-03,\n",
       "        4.97781113e-03,  4.59540822e-03, -1.72115723e-03,  3.63780372e-03,\n",
       "        5.49027044e-03,  5.29252272e-03,  4.61735576e-03,  3.27971764e-04,\n",
       "        4.48456313e-03,  4.49307403e-03,  2.51721824e-03, -7.03290105e-03,\n",
       "        3.87507631e-03,  5.18880878e-03,  2.96424050e-03, -2.14001862e-03,\n",
       "        5.01475483e-03,  4.09933040e-04,  5.30137680e-03,  2.62325862e-04,\n",
       "        3.67853139e-03, -1.18363639e-02,  2.70769722e-03,  2.27247970e-03,\n",
       "        3.20498366e-03,  3.11121484e-03, -4.40598791e-03,  4.69124643e-04,\n",
       "        4.16353764e-03, -3.13307717e-03,  2.56540952e-04,  6.11734111e-03,\n",
       "        2.51335627e-03, -8.83204117e-03,  5.79314772e-04,  4.27709054e-03,\n",
       "        3.81817250e-03, -2.51534628e-04,  6.43416308e-04,  5.98542951e-03,\n",
       "        9.12448741e-04, -5.11086546e-04, -2.19359063e-03,  1.63427426e-03,\n",
       "        5.76383155e-03,  4.50807624e-03,  1.06638379e-03,  4.25049476e-03,\n",
       "       -7.83610856e-04,  6.28785696e-03,  1.71135704e-03,  6.66275434e-03,\n",
       "        5.74102253e-03,  4.32943739e-03,  3.98586597e-03,  4.53705247e-03,\n",
       "        5.37761487e-03, -3.13841552e-03, -2.34216964e-03,  4.16203029e-03,\n",
       "        2.25603580e-04,  4.53279074e-03,  1.24002271e-03,  3.82999540e-03,\n",
       "        2.76811188e-04,  1.72143197e-03, -3.04330233e-03,  7.26364227e-03,\n",
       "        3.43800755e-03,  3.63150751e-03,  4.81661875e-03,  5.55144995e-03,\n",
       "        9.17737000e-03,  4.15405491e-04,  2.91168550e-03,  5.01711154e-04,\n",
       "       -8.90849624e-03,  4.57410142e-03, -1.20443944e-03,  4.02550399e-03,\n",
       "        5.54584712e-03,  1.31687021e-03,  2.86298874e-03,  2.44941935e-03,\n",
       "        2.88648764e-04,  4.70642792e-03,  1.82916503e-03, -1.10213505e-03,\n",
       "        5.11383172e-03,  1.99420843e-03,  7.98314228e-04,  3.04473261e-03,\n",
       "        4.70462628e-03,  1.64943223e-03,  1.97854685e-03, -4.88562090e-03,\n",
       "        4.69426718e-03,  6.09048316e-03,  3.74063593e-03,  5.64384693e-03,\n",
       "        2.70503014e-03,  4.34355717e-03, -3.36341374e-03,  5.69177978e-03,\n",
       "        3.10470257e-03,  3.01118731e-03,  5.31377317e-03,  5.78781031e-03,\n",
       "        7.24963984e-03, -4.72405460e-04, -2.27343896e-03,  5.01347380e-03,\n",
       "        3.14530451e-03,  4.35695518e-03,  4.23586974e-03, -7.63075892e-03,\n",
       "       -2.22062180e-03,  2.48935958e-03,  4.16005589e-03,  6.10184763e-03,\n",
       "        5.29001560e-03,  3.26445047e-03,  2.50261137e-03,  4.38449718e-03,\n",
       "        4.42275032e-03,  4.16831719e-03,  5.30524412e-04,  7.38978153e-04,\n",
       "        2.88581406e-03,  1.19689375e-03, -4.19970602e-04,  4.94017638e-03,\n",
       "       -1.21149328e-03,  5.30416146e-03, -5.37656527e-03, -6.41440041e-04,\n",
       "        1.02705241e-03, -1.52780348e-03,  4.98325285e-03,  7.52570853e-03,\n",
       "        4.69564460e-04,  9.98487696e-04,  1.37514435e-04,  1.11254642e-03,\n",
       "       -9.32316761e-04,  5.37193473e-03,  3.08437273e-03,  4.71724756e-03,\n",
       "        3.15370131e-03,  4.78428323e-03, -1.25213945e-03,  3.38618434e-03,\n",
       "       -4.78522852e-05,  4.03339043e-04,  4.27224115e-03,  5.02271112e-03,\n",
       "        4.39830590e-04, -3.93384928e-03,  4.17237263e-03,  1.69858057e-03,\n",
       "        1.05852773e-03, -2.86957016e-03,  5.07431105e-05,  2.89030559e-03,\n",
       "        5.31911664e-03, -2.34599691e-03, -1.11783668e-03, -4.87806974e-04,\n",
       "        3.75877041e-03,  4.81998641e-03,  1.16291887e-03, -1.86822936e-03,\n",
       "        6.88674022e-03, -8.45304457e-04, -3.67453089e-04, -1.51152816e-03,\n",
       "        2.72703543e-03,  5.65517880e-03,  1.20780652e-03, -2.19779322e-03,\n",
       "        6.09433651e-03,  1.25809270e-03,  3.67547618e-03, -3.27277044e-03,\n",
       "        4.32718918e-03,  1.84269494e-03,  4.60737525e-03, -6.49320893e-04,\n",
       "        5.53437974e-03,  4.08429559e-03,  3.95662151e-03,  5.64420642e-03,\n",
       "       -1.87878031e-03,  2.60368595e-03, -4.71703568e-03,  3.06309434e-04,\n",
       "        4.41905949e-03,  4.86723334e-03, -8.51823296e-03,  1.73814245e-03,\n",
       "        2.52750632e-03,  6.00493886e-03,  5.47089987e-03,  1.60607509e-04,\n",
       "        3.26351868e-03,  5.87224681e-03,  4.60011791e-03, -7.21467892e-04,\n",
       "        2.74789589e-03,  1.12410192e-03,  5.12613542e-03,  4.65948833e-03,\n",
       "       -4.27290006e-03,  1.56246696e-03,  5.02684154e-03,  3.05834971e-03,\n",
       "       -6.04681205e-04,  1.75677217e-03, -1.83320697e-03,  2.61038076e-03,\n",
       "       -2.48501636e-03,  4.89289779e-03,  5.03879227e-03,  1.86912192e-03,\n",
       "        1.66461384e-03,  1.08606112e-03, -1.64361624e-03, -8.33321828e-05,\n",
       "       -1.13033224e-04,  3.06805945e-03,  4.68620565e-03,  5.71186095e-03,\n",
       "        4.99418378e-03, -4.22770763e-03,  5.29809203e-03, -5.78128267e-03,\n",
       "        4.02871892e-03,  1.65869936e-03, -2.04444211e-03,  8.59008520e-04,\n",
       "        3.92413046e-03,  3.37614841e-03,  5.15780458e-03, -7.66510703e-03,\n",
       "        4.35443781e-03, -1.67913688e-03,  2.98736617e-03, -1.74037460e-03,\n",
       "        4.48796432e-03, -1.82846654e-03,  5.33635262e-03,  5.48630487e-03,\n",
       "        2.55834078e-03, -4.78799222e-03, -3.14273313e-03,  4.33618156e-03,\n",
       "        3.42510873e-04,  4.01767343e-03,  6.14019018e-03, -6.11717580e-04,\n",
       "        1.22099079e-03,  9.42010432e-04,  4.63456893e-03,  5.31539787e-03,\n",
       "       -8.44415277e-04,  6.35259785e-03,  3.34862364e-03,  1.49463746e-03,\n",
       "        2.98596919e-03,  5.50475437e-03,  5.20371087e-03,  1.01086101e-03,\n",
       "       -1.72832515e-05,  5.31695690e-03,  2.62597995e-03,  2.23538536e-03,\n",
       "       -4.36761649e-04,  9.65854898e-03,  4.21060249e-03,  6.66862121e-03,\n",
       "        5.65864984e-03,  3.46273580e-03,  6.01820182e-03,  4.48833592e-03,\n",
       "       -3.53645999e-03, -3.08349356e-03, -6.50070608e-03,  2.90987873e-03,\n",
       "        2.81221094e-03,  2.33334699e-03, -4.29506693e-03, -1.60759641e-03,\n",
       "       -9.69802262e-04,  3.10090929e-03,  4.36297571e-03,  5.28961699e-03,\n",
       "        5.78135811e-03,  4.12930828e-03,  6.28455542e-04,  3.43911909e-03,\n",
       "        4.79298737e-03,  3.48404259e-03, -8.10222141e-03, -2.59369146e-03,\n",
       "       -1.95048470e-03,  2.19819974e-03,  3.63427633e-03,  3.21608922e-03,\n",
       "        1.50424638e-03,  7.31340004e-03,  4.85483091e-03, -9.07014124e-04,\n",
       "        4.19679517e-03, -1.26676401e-04,  5.71423676e-03,  8.98084952e-04,\n",
       "        1.44187338e-03,  3.30979866e-03,  1.04292191e-03, -2.43743835e-03,\n",
       "        3.75434267e-03,  6.18638564e-03,  2.58017611e-03,  2.40490818e-03,\n",
       "        6.16559107e-03,  5.13667939e-03,  3.38132353e-03,  4.90449835e-04,\n",
       "        6.67464128e-03,  4.09214012e-03,  3.10592353e-03, -2.85230391e-03,\n",
       "        4.09639161e-03,  5.99844195e-03,  4.98889713e-04, -5.75954793e-04,\n",
       "        5.15684579e-03, -2.87056901e-04,  4.23293933e-03,  5.20785991e-03,\n",
       "        5.93121303e-03,  5.25092147e-03,  6.67291367e-03,  2.98182247e-03,\n",
       "        2.86054891e-03,  2.07562209e-03,  4.11727186e-03,  4.33171075e-03,\n",
       "        6.22586440e-03,  6.78440230e-03,  4.21284977e-03,  1.71444728e-03,\n",
       "       -3.21631785e-04,  6.47319248e-04,  2.39151856e-03,  3.93982511e-03,\n",
       "       -2.43973406e-03,  4.85617574e-03,  3.46005196e-04,  2.17716396e-03,\n",
       "        8.04058090e-03, -7.56944297e-04, -1.10457232e-03,  1.67758972e-03,\n",
       "        1.88068673e-03,  2.13828217e-03,  4.96210344e-03, -4.56933258e-03,\n",
       "        2.48020748e-04, -1.56449014e-03, -1.08535565e-03,  4.22120001e-03,\n",
       "       -1.27212154e-02,  1.70127652e-03,  9.39291250e-03,  5.70904650e-03,\n",
       "        5.39007830e-04,  4.79079783e-03,  5.05972933e-03,  4.37115319e-03,\n",
       "        3.04604648e-03,  5.50253782e-03,  5.78687992e-03,  3.28486576e-03,\n",
       "       -4.97472566e-03,  3.77562852e-03,  4.08742297e-03,  2.28693732e-03,\n",
       "        6.48601633e-03,  4.64386865e-03,  5.16286865e-03,  5.73334889e-03,\n",
       "        2.19465001e-03,  1.66743109e-03,  6.52400823e-03, -1.50760030e-03,\n",
       "        4.57194028e-03,  5.19109704e-03, -6.27957052e-04,  5.62694063e-03,\n",
       "        5.50702773e-03,  4.59260121e-03,  3.65287112e-03,  3.85337556e-03,\n",
       "        5.05504105e-03, -1.30705629e-03, -6.52505178e-03, -1.61447329e-04,\n",
       "        1.58958067e-03,  2.74927635e-03, -3.77031229e-03, -2.39856541e-04,\n",
       "        6.25530723e-03,  4.96248715e-03,  5.46288257e-03,  3.36994021e-03,\n",
       "        3.34060029e-03, -1.30504742e-03, -4.76416154e-03,  3.50205973e-03,\n",
       "        4.68364451e-03,  6.17855974e-03,  4.24065022e-03,  1.92333246e-03,\n",
       "        1.01446826e-03,  8.14220402e-04,  5.13413642e-03, -6.12143707e-03,\n",
       "        2.31249281e-03,  2.31145648e-03,  3.68938339e-03,  7.25431275e-03,\n",
       "        5.66305127e-03, -1.31216366e-03,  5.40234055e-03, -4.80148336e-03,\n",
       "        2.90612620e-03, -8.89915274e-04,  4.72122431e-03,  1.67211471e-03,\n",
       "        3.20414477e-03,  5.72224753e-03,  4.55175806e-03,  3.34394258e-03,\n",
       "        4.47737239e-03,  4.94736992e-03, -3.73661425e-03, -1.41045637e-03,\n",
       "        5.21831959e-03,  2.27639382e-03,  4.23977338e-03,  4.91718948e-03,\n",
       "        1.14487659e-03,  4.78618871e-03,  5.28909406e-03, -1.92770828e-03,\n",
       "        4.83959727e-03,  4.91101667e-03,  5.48640452e-03,  4.62854095e-03,\n",
       "        2.71398830e-03, -9.97771509e-04,  2.68933200e-03, -5.56290615e-04,\n",
       "        2.41100322e-03,  3.40421218e-03,  3.07346787e-03,  4.65668365e-03,\n",
       "        5.11600403e-03,  3.66978999e-03,  1.98136689e-03, -3.88505589e-03,\n",
       "        6.13524346e-03, -1.85197685e-04, -1.06394049e-02,  1.79890008e-03,\n",
       "        2.56811548e-03,  2.01064162e-04,  5.67941181e-03,  3.95957986e-03,\n",
       "        6.07171748e-03, -1.11737312e-03,  4.36250679e-03,  2.42549856e-03,\n",
       "        5.02933748e-03,  5.36960782e-04,  4.34750505e-03, -3.16831749e-04,\n",
       "        2.13998975e-03, -1.39370235e-03,  6.56526769e-04, -1.46411173e-03,\n",
       "        5.57523780e-03,  4.20242175e-03,  6.12802897e-03,  7.12033361e-05,\n",
       "        5.68846799e-03,  2.27341894e-04,  5.98362088e-03,  1.77886127e-03,\n",
       "        5.61773777e-06,  2.62648053e-03, -1.50098791e-03,  2.50020158e-03,\n",
       "       -2.00137449e-03,  7.32330419e-03,  2.92539108e-03,  5.13800327e-03,\n",
       "       -3.91184585e-03,  2.69602821e-03,  2.42341077e-04, -4.70707193e-03,\n",
       "       -9.65197571e-04,  4.58272453e-03,  6.62039127e-03,  2.78929202e-03,\n",
       "        3.97768803e-03,  6.51654555e-03,  4.03729547e-03,  1.30583742e-03,\n",
       "        5.55142108e-03,  1.01540016e-03, -5.16583957e-03,  1.68566487e-03,\n",
       "        4.51723300e-03,  9.36171040e-04,  2.51741125e-03,  5.39259706e-03,\n",
       "        4.49409336e-03,  5.82047738e-03,  6.18901476e-03,  6.28484599e-03,\n",
       "        1.72062544e-04,  5.03486395e-03,  1.61929929e-03,  7.64498138e-04,\n",
       "       -2.91562034e-03, -4.49517276e-04,  3.65547114e-03,  4.63643298e-03,\n",
       "        6.71706954e-03,  6.35732291e-03, -7.42011936e-04,  4.12682816e-03,\n",
       "        6.38861582e-03, -4.23582364e-03,  1.64413278e-03,  5.50617045e-03,\n",
       "        6.34422572e-03,  2.80258525e-03,  4.31598537e-03,  7.80743547e-04,\n",
       "       -8.79832078e-05,  5.75938309e-03,  5.78974094e-03,  6.29593106e-03,\n",
       "        5.62085584e-03,  6.18992280e-03,  3.00523243e-03,  5.87389525e-03,\n",
       "        3.64766736e-03,  6.68322016e-03, -1.49494642e-03,  4.54361364e-03,\n",
       "        1.55444280e-03,  7.16020586e-04,  6.80532400e-03,  3.87299154e-03,\n",
       "       -2.02118559e-03,  1.37491641e-03,  6.63829036e-03,  5.54747274e-03,\n",
       "        7.22721498e-03,  2.56622932e-03,  5.58776315e-03,  3.43077770e-03,\n",
       "        4.99870488e-03,  7.49796396e-04,  2.99124839e-03,  5.81867527e-04,\n",
       "       -5.30307088e-03,  1.18422671e-03, -3.53506114e-03,  5.32390783e-04,\n",
       "        3.45307775e-03, -3.43140680e-03,  1.04650226e-03,  4.56440728e-03,\n",
       "        3.75080528e-03, -6.48094807e-03,  8.92150681e-03,  5.26850950e-03,\n",
       "        4.75119613e-03,  3.16218240e-04, -6.07835501e-03,  7.23865069e-03,\n",
       "       -3.62901855e-03,  1.93084287e-03, -7.72384694e-04,  5.53317368e-03,\n",
       "        3.45467147e-03,  4.80214925e-03, -7.37641472e-04,  6.89748768e-03,\n",
       "        1.16169464e-03,  5.75852301e-03,  4.06199228e-03,  4.04149573e-03,\n",
       "        5.64867817e-03, -3.61385522e-04, -1.07934489e-03,  4.67077829e-03,\n",
       "        6.81703491e-03,  2.26827851e-03,  6.07580598e-03, -6.37576450e-05,\n",
       "        6.48880797e-03,  5.29287383e-03,  1.99600356e-03,  4.86347638e-03,\n",
       "        5.42164315e-03,  2.45000399e-03,  5.91577869e-03,  4.70242789e-03,\n",
       "        1.16541050e-04,  4.14099731e-03,  5.23518305e-03,  4.01165895e-03,\n",
       "        4.22141701e-03,  4.28718049e-03,  2.67595425e-03,  3.35239060e-03,\n",
       "        9.51899798e-04,  3.80518450e-03,  3.85826640e-03, -2.98831612e-03,\n",
       "        6.22106250e-03,  3.48162418e-03,  3.87616362e-03,  6.59805583e-03,\n",
       "        1.88436569e-03,  5.94285736e-03,  1.08167587e-03,  4.78035305e-03,\n",
       "        5.08749858e-03,  5.28542465e-03,  5.88286202e-03, -2.32894672e-03,\n",
       "       -5.94209414e-05, -5.26139745e-04, -4.30089841e-03,  3.44373775e-03,\n",
       "        1.96777750e-04,  4.57274215e-03,  2.32445123e-03,  6.56303111e-03,\n",
       "        3.98184080e-03, -9.47260065e-04,  1.78577169e-03,  2.97304336e-03,\n",
       "        4.25972231e-03, -4.11376357e-03,  3.28280544e-03, -1.70057639e-03,\n",
       "        3.82549386e-03,  1.19301456e-03, -3.94989690e-03,  6.30938448e-03,\n",
       "        4.14890610e-03,  1.69887906e-04,  3.37796845e-03,  6.11911435e-03,\n",
       "        2.29198649e-03, -2.68014474e-03,  3.87501623e-03, -6.40822388e-03,\n",
       "        6.31372351e-03, -4.89913020e-03,  5.00921067e-03,  5.07623143e-03,\n",
       "        2.63614580e-03,  5.48379868e-03,  3.29972524e-03, -2.40690773e-03,\n",
       "        6.32536784e-03,  5.04147634e-03,  2.89936387e-03,  1.47652545e-03,\n",
       "        3.65631236e-03,  3.07841389e-03,  4.30482998e-03,  5.05453348e-03,\n",
       "        4.95555997e-03,  6.14016503e-03,  4.64864820e-03,  2.61285808e-04,\n",
       "        4.94648982e-03,  4.83918702e-03, -4.68529621e-03,  3.40466807e-03,\n",
       "        3.16835335e-03, -1.65301841e-04,  5.82996337e-03,  4.87839710e-03,\n",
       "        4.08439711e-03,  3.76428291e-03, -2.38362700e-05,  4.77157719e-03,\n",
       "        1.18725561e-03,  5.98049629e-03,  2.75746733e-03,  5.08214626e-03,\n",
       "        1.16593589e-03,  5.55383647e-03,  2.71100714e-03,  5.13381418e-03,\n",
       "        6.08531386e-03, -7.32937548e-03,  3.75559949e-03,  4.71102446e-03,\n",
       "        2.67014769e-03,  2.53297877e-03,  5.21540316e-03,  5.15925139e-03,\n",
       "       -1.97991775e-03,  5.00138942e-03,  6.58446457e-03,  5.24054002e-03,\n",
       "        4.29287972e-03,  3.53312818e-03, -8.65174457e-04, -2.07595620e-03,\n",
       "        4.60294914e-03,  6.28367905e-03,  5.60488552e-03, -4.04080423e-03,\n",
       "        5.08113857e-03,  5.28716017e-03,  5.11165243e-04,  4.91612125e-03,\n",
       "        4.80100792e-03,  5.03799319e-03, -1.24534825e-03, -2.11853348e-03,\n",
       "        5.17895725e-03,  1.86333563e-02,  3.60579370e-03,  5.15777525e-03,\n",
       "        6.52223406e-03,  3.76622379e-03,  3.37967649e-05,  5.07674972e-03,\n",
       "        4.68044542e-03,  1.11865532e-03,  4.49478067e-03,  2.28733919e-03,\n",
       "        7.97399506e-03,  6.55761175e-03,  4.53504315e-03,  1.11164968e-03,\n",
       "        4.70722700e-03,  4.47184592e-03,  4.25513275e-03,  5.47525566e-03,\n",
       "       -2.02549575e-03,  1.93605665e-03,  4.84243967e-03,  2.04117852e-03,\n",
       "        2.39530951e-03, -9.08111967e-03,  2.99067702e-04,  3.63895670e-03,\n",
       "        5.84823545e-03,  4.13366361e-04,  3.87323648e-03,  1.46635924e-03,\n",
       "       -1.65824033e-03,  4.89686243e-03,  4.40308498e-03,  4.09542304e-03,\n",
       "        9.32789175e-04,  1.34412665e-04,  5.78426523e-04,  1.17978209e-03,\n",
       "        5.97293908e-03,  4.47784737e-03,  7.21840607e-03,  4.79609286e-03,\n",
       "        1.84569298e-03,  1.06700172e-03,  9.29338299e-03,  4.06557042e-03,\n",
       "       -2.31180154e-03,  9.15164128e-05, -5.23059908e-03,  1.14847743e-03,\n",
       "       -2.31374195e-03,  4.71774023e-04,  5.89630380e-03, -5.09542879e-04,\n",
       "        1.95023033e-03,  2.67191674e-03, -2.04762211e-04, -6.51261583e-03,\n",
       "       -1.94578106e-03,  4.05114051e-03, -3.15819634e-03,  1.57079718e-03,\n",
       "        5.17789321e-03,  5.31273335e-03,  7.71677634e-03,  4.35153767e-03,\n",
       "       -8.92262207e-04, -1.96010945e-03,  6.60942122e-03, -1.08588091e-03,\n",
       "        4.31341678e-03,  1.33455079e-03,  3.36397858e-03,  4.25134413e-03,\n",
       "        3.92490439e-03,  9.02471016e-04,  5.74982725e-03,  8.35187966e-04,\n",
       "       -1.22199766e-04, -4.14321898e-03, -2.57070456e-03,  3.29492707e-03,\n",
       "        3.75074800e-03,  5.92706073e-03,  1.82899018e-03,  2.04121787e-03,\n",
       "        2.02510622e-03,  3.85017879e-03,  5.12993615e-03,  2.86434474e-03,\n",
       "        6.30918704e-03,  4.63458896e-03,  1.47928111e-03,  2.66219932e-03,\n",
       "       -1.73727097e-03,  4.42001177e-03,  4.78631211e-03,  3.57002765e-03,\n",
       "        5.18176053e-03,  2.86509050e-04,  2.14540446e-03,  3.76356905e-03,\n",
       "        8.84869602e-04,  4.76181507e-03,  5.61257079e-03,  6.86448067e-04,\n",
       "        6.16508257e-03, -1.17920456e-03,  6.02289615e-03,  5.17618516e-03,\n",
       "        4.15500067e-03,  4.18747542e-03,  1.15951628e-03, -3.10894521e-03,\n",
       "        6.34542853e-03,  4.75583225e-03,  2.32041837e-03,  5.20023331e-03,\n",
       "        4.58307331e-04,  6.83775730e-03,  6.97508221e-04,  1.86499662e-03,\n",
       "        4.67126258e-03, -5.72420657e-04, -1.85242342e-03,  1.27376954e-03,\n",
       "        5.67561481e-03,  2.23535951e-03, -4.36622370e-03,  2.06513703e-03,\n",
       "        5.59427124e-03, -2.14046100e-03,  4.98166215e-03,  3.66822258e-03,\n",
       "        4.24949080e-03,  5.51563408e-03,  2.26999726e-03, -9.47487075e-04,\n",
       "        6.36017136e-03,  5.63579146e-03,  2.80390447e-03,  2.29411991e-04,\n",
       "        4.86627640e-03,  2.52926024e-03,  4.85849474e-03,  9.89595079e-04,\n",
       "        5.19880839e-03,  2.39856797e-03, -3.51687428e-03, -1.22708781e-03,\n",
       "        8.26752977e-04, -3.83666251e-04,  1.58448634e-03,  3.43757216e-03,\n",
       "       -1.86159415e-03,  7.00124819e-03,  5.66589739e-03,  8.07443284e-04,\n",
       "        2.23202119e-03,  4.49441373e-03,  5.25637064e-03,  1.81153521e-03,\n",
       "        2.79885950e-04,  6.32038247e-03,  2.34032283e-03,  1.89660536e-03,\n",
       "       -2.25801999e-03, -3.85839958e-04,  4.28598095e-03,  9.88190295e-04,\n",
       "       -2.36882269e-03,  5.55127114e-03,  4.00420232e-03,  1.10211514e-03,\n",
       "        5.17125893e-03, -1.50727574e-05,  1.93608063e-03,  4.72564436e-03,\n",
       "        1.81088550e-03,  2.75662448e-03, -3.52725713e-03,  7.06421491e-03,\n",
       "        6.35845121e-03,  1.83048809e-03, -4.84626694e-03,  2.20397487e-03,\n",
       "        3.37488716e-03,  3.29148024e-04,  5.48677333e-03, -1.96644431e-03,\n",
       "        5.28811570e-03,  3.03469924e-03,  1.73891871e-03,  2.22163065e-03,\n",
       "       -2.10930593e-04,  1.63413875e-03,  4.33319621e-03,  3.68812191e-03,\n",
       "        5.01221325e-03,  9.08201560e-04,  1.52482965e-03, -1.47626828e-03,\n",
       "        1.13939820e-03,  6.42653741e-03, -1.88710587e-03,  3.00261448e-03,\n",
       "       -2.96447147e-03,  5.47354668e-03,  6.74181012e-03,  3.83395795e-03,\n",
       "        3.33590247e-03,  2.33406364e-03,  1.61487295e-03,  7.68461684e-03,\n",
       "        6.48514461e-03,  5.24663785e-03,  9.79011878e-03,  5.61301690e-03,\n",
       "       -5.00702765e-04, -3.93685885e-04, -2.17113271e-03,  3.44131980e-03,\n",
       "        5.05508669e-03, -1.29091181e-03,  2.19128234e-03,  9.07278736e-04,\n",
       "        5.64465113e-03,  4.79877926e-03,  4.91312332e-03, -1.97605044e-03,\n",
       "        2.64598452e-03,  5.22662327e-03,  4.09457227e-03,  4.43147682e-03,\n",
       "       -1.11644599e-03,  6.04274683e-03, -5.49730845e-04,  2.28021992e-04,\n",
       "        6.24598470e-03,  4.29419708e-03, -4.06481000e-03,  5.04443049e-03,\n",
       "        9.22831823e-04, -5.34582511e-03,  4.82345372e-03,  5.79682039e-03],\n",
       "      dtype=float32)"
      ]
     },
     "execution_count": 30,
     "metadata": {},
     "output_type": "execute_result"
    }
   ],
   "source": [
    "predicts[:,1]"
   ]
  },
  {
   "cell_type": "code",
   "execution_count": null,
   "id": "1f7d40b1-9ce9-4eda-bbbd-99364216df62",
   "metadata": {},
   "outputs": [],
   "source": []
  }
 ],
 "metadata": {
  "kernelspec": {
   "display_name": "Pybase",
   "language": "python",
   "name": "base"
  },
  "language_info": {
   "codemirror_mode": {
    "name": "ipython",
    "version": 3
   },
   "file_extension": ".py",
   "mimetype": "text/x-python",
   "name": "python",
   "nbconvert_exporter": "python",
   "pygments_lexer": "ipython3",
   "version": "3.9.7"
  }
 },
 "nbformat": 4,
 "nbformat_minor": 5
}
