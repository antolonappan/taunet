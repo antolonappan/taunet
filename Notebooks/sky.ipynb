{
 "cells": [
  {
   "cell_type": "code",
   "execution_count": 1,
   "metadata": {},
   "outputs": [],
   "source": [
    "import healpy as hp \n",
    "import sys\n",
    "sys.path.append('../')\n",
    "import matplotlib.pyplot as plt\n",
    "import os"
   ]
  },
  {
   "cell_type": "code",
   "execution_count": 2,
   "metadata": {},
   "outputs": [],
   "source": [
    "%load_ext autoreload\n",
    "%autoreload 2\n",
    "from taunet.simulation import CMBmap, FGMap, SkySimulation,CMBspectra"
   ]
  },
  {
   "cell_type": "code",
   "execution_count": 3,
   "metadata": {},
   "outputs": [],
   "source": [
    "main_dir = '/marconi/home/userexternal/aidicher/storage/TAUNET'\n",
    "spectra_dir = os.path.join(main_dir,'SPECTRA')\n",
    "os.makedirs(spectra_dir,exist_ok=True)"
   ]
  },
  {
   "cell_type": "code",
   "execution_count": 4,
   "metadata": {},
   "outputs": [],
   "source": [
    "nsim = 10\n",
    "tau = 0.06\n",
    "fg_model = ['s0','d0']"
   ]
  },
  {
   "cell_type": "code",
   "execution_count": 5,
   "metadata": {},
   "outputs": [],
   "source": [
    "spectra = CMBspectra(tau=tau)\n",
    "spectra.save_power(spectra_dir)"
   ]
  },
  {
   "cell_type": "code",
   "execution_count": 6,
   "metadata": {},
   "outputs": [],
   "source": [
    "sky = SkySimulation(main_dir,nsim,tau,fg_model)"
   ]
  },
  {
   "cell_type": "code",
   "execution_count": 7,
   "metadata": {},
   "outputs": [],
   "source": [
    "simdir = os.path.join(main_dir,'SIMULATIONS_'+''.join(fg_model))\n",
    "os.makedirs(simdir,exist_ok=True)"
   ]
  },
  {
   "cell_type": "code",
   "execution_count": 8,
   "metadata": {},
   "outputs": [
    {
     "name": "stderr",
     "output_type": "stream",
     "text": [
      "setting the output map dtype to [dtype('float64'), dtype('float64'), dtype('float64')]\n",
      "setting the output map dtype to [dtype('float64'), dtype('float64'), dtype('float64')]\n",
      "setting the output map dtype to [dtype('float64'), dtype('float64'), dtype('float64')]\n",
      "setting the output map dtype to [dtype('float64'), dtype('float64'), dtype('float64')]\n",
      "setting the output map dtype to [dtype('float64'), dtype('float64'), dtype('float64')]\n",
      "setting the output map dtype to [dtype('float64'), dtype('float64'), dtype('float64')]\n",
      "setting the output map dtype to [dtype('float64'), dtype('float64'), dtype('float64')]\n",
      "setting the output map dtype to [dtype('float64'), dtype('float64'), dtype('float64')]\n",
      "setting the output map dtype to [dtype('float64'), dtype('float64'), dtype('float64')]\n",
      "setting the output map dtype to [dtype('float64'), dtype('float64'), dtype('float64')]\n"
     ]
    }
   ],
   "source": [
    "for f in [30,100,143,353]:\n",
    "    for i in range(nsim):\n",
    "        if not os.path.isfile(os.path.join(simdir,f'sky_{f}_{i}.fits')):\n",
    "            Q, U = sky.QU(f,idx=i,unit='K',order='nested')\n",
    "            hp.write_map(os.path.join(simdir,f'sky_{f}_{i}.fits'),[Q*0,Q,U],nest=True,overwrite=True)"
   ]
  },
  {
   "cell_type": "code",
   "execution_count": 10,
   "metadata": {},
   "outputs": [],
   "source": [
    "clean_dir = os.path.join(main_dir,'CLEAN')\n",
    "os.makedirs(clean_dir,exist_ok=True)"
   ]
  },
  {
   "cell_type": "code",
   "execution_count": null,
   "metadata": {},
   "outputs": [],
   "source": []
  }
 ],
 "metadata": {
  "kernelspec": {
   "display_name": "taunet",
   "language": "python",
   "name": "python3"
  },
  "language_info": {
   "codemirror_mode": {
    "name": "ipython",
    "version": 3
   },
   "file_extension": ".py",
   "mimetype": "text/x-python",
   "name": "python",
   "nbconvert_exporter": "python",
   "pygments_lexer": "ipython3",
   "version": "3.8.0"
  }
 },
 "nbformat": 4,
 "nbformat_minor": 2
}
