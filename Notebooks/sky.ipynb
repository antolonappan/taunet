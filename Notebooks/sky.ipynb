{
 "cells": [
  {
   "cell_type": "code",
   "execution_count": 1,
   "metadata": {},
   "outputs": [],
   "source": [
    "import healpy as hp \n",
    "import sys\n",
    "sys.path.append('../')\n",
    "import matplotlib.pyplot as plt\n",
    "import os\n",
    "import numpy as np"
   ]
  },
  {
   "cell_type": "code",
   "execution_count": 2,
   "metadata": {},
   "outputs": [],
   "source": [
    "%load_ext autoreload\n",
    "%autoreload 2\n",
    "from taunet.simulation import CMBmap, FGMap, SkySimulation,CMBspectra,MakeSims"
   ]
  },
  {
   "cell_type": "code",
   "execution_count": 3,
   "metadata": {},
   "outputs": [],
   "source": [
    "main_dir = '/marconi/home/userexternal/aidicher/storage/TAUNET'"
   ]
  },
  {
   "cell_type": "code",
   "execution_count": 4,
   "metadata": {},
   "outputs": [
    {
     "name": "stdout",
     "output_type": "stream",
     "text": [
      "Saved power spectra\n"
     ]
    },
    {
     "name": "stderr",
     "output_type": "stream",
     "text": [
      "Generating 23 GHz maps: 100%|██████████| 100/100 [00:00<00:00, 8793.27sim/s]\n",
      "Generating 100 GHz maps: 100%|██████████| 100/100 [00:00<00:00, 9815.14sim/s]\n",
      "Generating 143 GHz maps: 100%|██████████| 100/100 [00:00<00:00, 10153.24sim/s]\n",
      "Generating 353 GHz maps: 100%|██████████| 100/100 [00:04<00:00, 22.85sim/s]\n"
     ]
    },
    {
     "name": "stdout",
     "output_type": "stream",
     "text": [
      "Generating noise covariance matrices: NoiseModelGaussian\n",
      "Saved /marconi/home/userexternal/aidicher/storage/TAUNET/NCMG/ncm_23.bin\n",
      "Saved /marconi/home/userexternal/aidicher/storage/TAUNET/NCMG/ncm_100.bin\n",
      "Saved /marconi/home/userexternal/aidicher/storage/TAUNET/NCMG/ncm_143.bin\n",
      "Saved /marconi/home/userexternal/aidicher/storage/TAUNET/NCMG/ncm_353.bin\n"
     ]
    }
   ],
   "source": [
    "MakeSims(main_dir,noise_g=True)"
   ]
  },
  {
   "cell_type": "code",
   "execution_count": null,
   "metadata": {},
   "outputs": [],
   "source": [
    "\n",
    "spectra_dir = os.path.join(main_dir,'SPECTRA')\n",
    "os.makedirs(spectra_dir,exist_ok=True)"
   ]
  },
  {
   "cell_type": "code",
   "execution_count": 4,
   "metadata": {},
   "outputs": [],
   "source": [
    "nsim = 30\n",
    "tau = 0.06\n",
    "fg_model = ['s0','d0']"
   ]
  },
  {
   "cell_type": "code",
   "execution_count": 5,
   "metadata": {},
   "outputs": [],
   "source": [
    "noise_levels = {\n",
    "    '23': 65,\n",
    "    '100': 55,\n",
    "    '143': 60,\n",
    "    '353': 65,\n",
    "}"
   ]
  },
  {
   "cell_type": "code",
   "execution_count": 6,
   "metadata": {},
   "outputs": [],
   "source": [
    "spectra = CMBspectra(tau=tau)\n",
    "spectra.save_power(spectra_dir)"
   ]
  },
  {
   "cell_type": "code",
   "execution_count": 5,
   "metadata": {},
   "outputs": [],
   "source": [
    "sky = SkySimulation(main_dir,nsim,tau,fg_model,cmb_const=False,noise_g=False)"
   ]
  },
  {
   "cell_type": "code",
   "execution_count": 15,
   "metadata": {},
   "outputs": [
    {
     "ename": "IndexError",
     "evalue": "index 2 is out of bounds for axis 0 with size 2",
     "output_type": "error",
     "traceback": [
      "\u001b[0;31m---------------------------------------------------------------------------\u001b[0m",
      "\u001b[0;31mIndexError\u001b[0m                                Traceback (most recent call last)",
      "Cell \u001b[0;32mIn[15], line 1\u001b[0m\n\u001b[0;32m----> 1\u001b[0m hp\u001b[38;5;241m.\u001b[39mmollview(\u001b[43msky\u001b[49m\u001b[38;5;241;43m.\u001b[39;49m\u001b[43mQU\u001b[49m\u001b[43m(\u001b[49m\u001b[38;5;241;43m100\u001b[39;49m\u001b[43m,\u001b[49m\u001b[43midx\u001b[49m\u001b[38;5;241;43m=\u001b[39;49m\u001b[38;5;241;43m3\u001b[39;49m\u001b[43m,\u001b[49m\u001b[43munit\u001b[49m\u001b[38;5;241;43m=\u001b[39;49m\u001b[38;5;124;43m'\u001b[39;49m\u001b[38;5;124;43mK\u001b[39;49m\u001b[38;5;124;43m'\u001b[39;49m\u001b[43m,\u001b[49m\u001b[43morder\u001b[49m\u001b[38;5;241;43m=\u001b[39;49m\u001b[38;5;124;43m'\u001b[39;49m\u001b[38;5;124;43mnested\u001b[39;49m\u001b[38;5;124;43m'\u001b[39;49m\u001b[43m,\u001b[49m\u001b[43mbeam\u001b[49m\u001b[38;5;241;43m=\u001b[39;49m\u001b[38;5;28;43;01mTrue\u001b[39;49;00m\u001b[43m)\u001b[49m\u001b[43m[\u001b[49m\u001b[38;5;241;43m2\u001b[39;49m\u001b[43m]\u001b[49m,nest\u001b[38;5;241m=\u001b[39m\u001b[38;5;28;01mTrue\u001b[39;00m)\n",
      "\u001b[0;31mIndexError\u001b[0m: index 2 is out of bounds for axis 0 with size 2"
     ]
    }
   ],
   "source": [
    "hp.mollview(sky.QU(100,idx=3,unit='K',order='nested',beam=True)[2],nest=True)"
   ]
  },
  {
   "cell_type": "code",
   "execution_count": 12,
   "metadata": {},
   "outputs": [],
   "source": [
    "simdir = os.path.join(main_dir,'SIMULATIONS_'+''.join(fg_model))\n",
    "os.makedirs(simdir,exist_ok=True)"
   ]
  },
  {
   "cell_type": "code",
   "execution_count": 13,
   "metadata": {},
   "outputs": [],
   "source": [
    "for f in [23,100,143,353]:\n",
    "    for i in range(nsim):\n",
    "        if not os.path.isfile(os.path.join(simdir,f'sky_{f}_{i}.fits')):\n",
    "            Q, U = sky.QU(f,idx=i,unit='K',order='nested')#,nlevp=noise_levels[str(f)])\n",
    "            hp.write_map(os.path.join(simdir,f'sky_{f}_{i}.fits'),[Q*0,Q,U],nest=True,dtype=np.float64)"
   ]
  },
  {
   "cell_type": "code",
   "execution_count": 10,
   "metadata": {},
   "outputs": [],
   "source": [
    "clean_dir = os.path.join(main_dir,'CLEAN')\n",
    "os.makedirs(clean_dir,exist_ok=True)"
   ]
  },
  {
   "cell_type": "code",
   "execution_count": null,
   "metadata": {},
   "outputs": [],
   "source": []
  }
 ],
 "metadata": {
  "kernelspec": {
   "display_name": "taunet",
   "language": "python",
   "name": "python3"
  },
  "language_info": {
   "codemirror_mode": {
    "name": "ipython",
    "version": 3
   },
   "file_extension": ".py",
   "mimetype": "text/x-python",
   "name": "python",
   "nbconvert_exporter": "python",
   "pygments_lexer": "ipython3",
   "version": "3.8.0"
  }
 },
 "nbformat": 4,
 "nbformat_minor": 2
}
