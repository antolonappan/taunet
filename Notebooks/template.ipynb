{
 "cells": [
  {
   "cell_type": "code",
   "execution_count": 1,
   "metadata": {},
   "outputs": [],
   "source": [
    "import healpy as hp \n",
    "import sys\n",
    "sys.path.append('../')\n",
    "import matplotlib.pyplot as plt\n",
    "import os\n",
    "from tqdm import tqdm\n",
    "import numpy as np"
   ]
  },
  {
   "cell_type": "code",
   "execution_count": 13,
   "metadata": {},
   "outputs": [
    {
     "name": "stdout",
     "output_type": "stream",
     "text": [
      "The autoreload extension is already loaded. To reload it, use:\n",
      "  %reload_ext autoreload\n"
     ]
    }
   ],
   "source": [
    "%load_ext autoreload\n",
    "%autoreload 2\n",
    "from taunet.simulation import CMBmap, FGMap, SkySimulation,CMBspectra\n",
    "from taunet.ncm import NoiseModel,NoiseModelGaussian"
   ]
  },
  {
   "cell_type": "code",
   "execution_count": 3,
   "metadata": {},
   "outputs": [],
   "source": [
    "main_dir = '/marconi/home/userexternal/aidicher/storage/TAUNETG'\n",
    "clean_dir = os.path.join(main_dir,'CLEAN')"
   ]
  },
  {
   "cell_type": "code",
   "execution_count": 4,
   "metadata": {},
   "outputs": [],
   "source": [
    "nsim = 10\n",
    "tau = 0.06\n",
    "fg_model = ['s0','d0']"
   ]
  },
  {
   "cell_type": "code",
   "execution_count": 5,
   "metadata": {},
   "outputs": [],
   "source": [
    "spectra = CMBspectra(tau=tau)"
   ]
  },
  {
   "cell_type": "code",
   "execution_count": 6,
   "metadata": {},
   "outputs": [],
   "source": [
    "def get_cl(f,nsim,f1=None):\n",
    "    cl = []\n",
    "    for i in tqdm(range(nsim)):\n",
    "        fname = os.path.join(clean_dir,f'cleaned_{f}_{i}.fits')\n",
    "        Q,U = hp.read_map(fname,field=(1,2))\n",
    "        _,E,_ = hp.map2alm([Q*0,Q,U])\n",
    "        if f1 is not None:\n",
    "            fname = os.path.join(clean_dir,f'cleaned_{f1}_{i}.fits')\n",
    "            Q1,U1 = hp.read_map(fname,field=(1,2))\n",
    "            _,E1,_ = hp.map2alm([Q1*0,Q1,U1])\n",
    "            cl.append(hp.alm2cl(E,E1))\n",
    "        else:\n",
    "            cl.append(hp.alm2cl(E))\n",
    "    return np.array(cl)\n"
   ]
  },
  {
   "cell_type": "code",
   "execution_count": 7,
   "metadata": {},
   "outputs": [
    {
     "name": "stderr",
     "output_type": "stream",
     "text": [
      "100%|██████████| 10/10 [00:46<00:00,  4.64s/it]\n"
     ]
    }
   ],
   "source": [
    "cl_100 = get_cl('100',nsim)"
   ]
  },
  {
   "cell_type": "code",
   "execution_count": 8,
   "metadata": {},
   "outputs": [
    {
     "name": "stderr",
     "output_type": "stream",
     "text": [
      "  0%|          | 0/10 [00:00<?, ?it/s]"
     ]
    },
    {
     "name": "stderr",
     "output_type": "stream",
     "text": [
      "100%|██████████| 10/10 [00:46<00:00,  4.62s/it]\n"
     ]
    }
   ],
   "source": [
    "cl_143 = get_cl('143',nsim)"
   ]
  },
  {
   "cell_type": "code",
   "execution_count": 9,
   "metadata": {},
   "outputs": [
    {
     "name": "stderr",
     "output_type": "stream",
     "text": [
      "  0%|          | 0/10 [00:00<?, ?it/s]"
     ]
    },
    {
     "name": "stderr",
     "output_type": "stream",
     "text": [
      "100%|██████████| 10/10 [01:32<00:00,  9.23s/it]\n"
     ]
    }
   ],
   "source": [
    "cl_100_143 = get_cl('100',nsim,'143')"
   ]
  },
  {
   "cell_type": "code",
   "execution_count": 10,
   "metadata": {},
   "outputs": [],
   "source": [
    "l = np.arange(len(cl_100[0]))"
   ]
  },
  {
   "cell_type": "code",
   "execution_count": 11,
   "metadata": {},
   "outputs": [],
   "source": [
    "ncm = NoiseModel()"
   ]
  },
  {
   "cell_type": "code",
   "execution_count": 12,
   "metadata": {},
   "outputs": [
    {
     "name": "stderr",
     "output_type": "stream",
     "text": [
      "  0%|          | 0/10 [00:00<?, ?it/s]"
     ]
    },
    {
     "name": "stderr",
     "output_type": "stream",
     "text": [
      "100%|██████████| 10/10 [00:08<00:00,  1.16it/s]\n"
     ]
    }
   ],
   "source": [
    "nl_100,nl_143 = [],[]\n",
    "for i in tqdm(range(nsim)):\n",
    "    nl_100.append(hp.alm2cl(ncm.Emode(100)))\n",
    "    nl_143.append(hp.alm2cl(ncm.Emode(143)))\n",
    "nl_100 = np.array(nl_100).mean(axis=0)\n",
    "nl_143 = np.array(nl_143).mean(axis=0)"
   ]
  },
  {
   "cell_type": "code",
   "execution_count": 15,
   "metadata": {},
   "outputs": [
    {
     "name": "stderr",
     "output_type": "stream",
     "text": [
      "100%|██████████| 10/10 [00:15<00:00,  1.58s/it]\n"
     ]
    }
   ],
   "source": [
    "noise_levels = {\n",
    "    '100': 55,\n",
    "    '143': 60,\n",
    "}\n",
    "nl_100, nl_143 = [],[]\n",
    "for i in tqdm(range(nsim)):\n",
    "    nl_100.append(hp.alm2cl(NoiseModelGaussian(16,noise_levels['100']).Emode()))\n",
    "    nl_143.append(hp.alm2cl(NoiseModelGaussian(16,noise_levels['143']).Emode()))\n",
    "nl_100 = np.array(nl_100).mean(axis=0)\n",
    "nl_143 = np.array(nl_143).mean(axis=0)"
   ]
  },
  {
   "cell_type": "code",
   "execution_count": 17,
   "metadata": {},
   "outputs": [
    {
     "data": {
      "text/plain": [
       "<matplotlib.legend.Legend at 0x2b541a327c70>"
      ]
     },
     "execution_count": 17,
     "metadata": {},
     "output_type": "execute_result"
    },
    {
     "data": {
      "image/png": "[encoded data removed]",
      "text/plain": [
       "<Figure size 640x480 with 1 Axes>"
      ]
     },
     "metadata": {},
     "output_type": "display_data"
    }
   ],
   "source": [
    "plt.errorbar(l,(cl_100.mean(axis=0)*1e12 - nl_100)/0.54,yerr=cl_100.std(axis=0)*1e12/0.54,fmt='o',label='100')\n",
    "plt.errorbar(l,(cl_143.mean(axis=0)*1e12 - nl_143)/0.54,yerr=cl_143.std(axis=0)*1e12/0.54,fmt='o',label='143')\n",
    "plt.errorbar(l,cl_100_143.mean(axis=0)*1e12/0.54,yerr=cl_100_143.std(axis=0)*1e12/0.54,fmt='o',label='100x143')\n",
    "plt.loglog(l,spectra.EE[:48],label='EE')\n",
    "plt.legend()"
   ]
  },
  {
   "cell_type": "code",
   "execution_count": null,
   "metadata": {},
   "outputs": [],
   "source": []
  }
 ],
 "metadata": {
  "kernelspec": {
   "display_name": "taunet",
   "language": "python",
   "name": "python3"
  },
  "language_info": {
   "codemirror_mode": {
    "name": "ipython",
    "version": 3
   },
   "file_extension": ".py",
   "mimetype": "text/x-python",
   "name": "python",
   "nbconvert_exporter": "python",
   "pygments_lexer": "ipython3",
   "version": "3.8.0"
  }
 },
 "nbformat": 4,
 "nbformat_minor": 2
}
